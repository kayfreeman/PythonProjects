{
 "cells": [
  {
   "cell_type": "code",
   "execution_count": 89,
   "id": "1c3d8cd3-4020-4759-8b29-2a9415658f82",
   "metadata": {},
   "outputs": [],
   "source": [
    "# -------------------------\n",
    "# Step 1: Import Required Libraries\n",
    "# -------------------------\n",
    "# Load libraries for data handling, statistical analysis, visualization, and clustering\n",
    "import pandas as pd                     # Efficient tabular data manipulation\n",
    "import numpy as np                      # Numerical computing\n",
    "from scipy.stats import linregress     # Linear regression analysis\n",
    "import seaborn as sns                   # Enhanced statistical plotting\n",
    "import matplotlib.pyplot as plt         # Core plotting functionality\n",
    "import plotly.express as px             # Interactive plots\n",
    "import plotly.graph_objects as go       # Advanced Plotly visualizations\n",
    "from sklearn.preprocessing import StandardScaler  # Feature scaling for clustering\n",
    "from scipy.cluster.hierarchy import linkage, dendrogram  # Hierarchical clustering and dendrograms\n",
    "\n",
    "\n",
    "# -------------------------\n",
    "# Step 2: Prepare NGX Sector Weekly Performance Data\n",
    "# -------------------------\n",
    "# Define weekly percentage performance for NGX sectors over 4 weeks in a dictionary\n",
    "data = {\n",
    "    \"NGX - BANKING SERVICES\": [14.06, 15.60, 14.83, 12.78],\n",
    "    \"NGX - FINANCIAL SERVICES\": [42.30, 41.54, 42.54, 45.73],\n",
    "    \"NGX - BREWERIES\": [49.45, 60.02, 60.60, 63.68],\n",
    "    \"NGX - TELECOMMUNICATION\": [19.70, 36.41, 37.41, 52.09],\n",
    "    \"NGX - INSURANCE\": [18.31, 19.84, 20.84, 26.69],\n",
    "    \"NGX - PACKAGED FOODS\": [35.10, 36.52, 35.14, 33.59],\n",
    "    \"NGX - INDUSTRIALS\": [49.48, 51.21, 52.93, 56.34],\n",
    "    \"NGX - CONSTRUCTION\": [12.59, 13.74, 14.74, 14.70],\n",
    "    \"NGX - TECHNOLOGY SERVICES\": [-5.13, -7.69, -6.69, -7.41],\n",
    "    \"NGX - OIL & GAS SERVICES\": [26.96, 29.14, 27.14, 26.90],\n",
    "    \"NGX - TRANSPORTATION, AVIATION AND LOGISTICS\": [75.34, 73.27, 76.27, 78.34],\n",
    "    \"NGX - PHARMACEUTICALS\": [11.68, 25.71, 32.71, 42.78],\n",
    "    \"NGX - HOSPITALITY\": [111.68, 102.92, 109.92, 126.28],\n",
    "    \"NGX - AGRICULTURAL SERVICES\": [31.99, 30.05, 33.05, 46.52],\n",
    "    \"NGX - CONGLOMERATES\": [42.42, 45.24, 47.24, 51.79],\n",
    "    \"NGX - REIT/REAL ESTATE\": [4.71, 1.35, 1.35, 1.01]\n",
    "}\n",
    "\n",
    "# Convert dictionary into a DataFrame with sectors as rows and weeks as columns\n",
    "df = pd.DataFrame.from_dict(data, orient='index', columns=[\"Week 1\", \"Week 2\", \"Week 3\", \"Week 4\"])\n",
    "\n",
    "# Label index to identify sectors clearly in analysis and visualization\n",
    "df.index.name = \"Sector\"\n"
   ]
  },
  {
   "cell_type": "code",
   "execution_count": 91,
   "id": "26087a46-7ca4-4e37-8bb1-8a5b577433dc",
   "metadata": {},
   "outputs": [
    {
     "data": {
      "text/html": [
       "<div>\n",
       "<style scoped>\n",
       "    .dataframe tbody tr th:only-of-type {\n",
       "        vertical-align: middle;\n",
       "    }\n",
       "\n",
       "    .dataframe tbody tr th {\n",
       "        vertical-align: top;\n",
       "    }\n",
       "\n",
       "    .dataframe thead th {\n",
       "        text-align: right;\n",
       "    }\n",
       "</style>\n",
       "<table border=\"1\" class=\"dataframe\">\n",
       "  <thead>\n",
       "    <tr style=\"text-align: right;\">\n",
       "      <th></th>\n",
       "      <th>Week 1</th>\n",
       "      <th>Week 2</th>\n",
       "      <th>Week 3</th>\n",
       "      <th>Week 4</th>\n",
       "    </tr>\n",
       "    <tr>\n",
       "      <th>Sector</th>\n",
       "      <th></th>\n",
       "      <th></th>\n",
       "      <th></th>\n",
       "      <th></th>\n",
       "    </tr>\n",
       "  </thead>\n",
       "  <tbody>\n",
       "    <tr>\n",
       "      <th>NGX - BANKING SERVICES</th>\n",
       "      <td>14.06</td>\n",
       "      <td>15.60</td>\n",
       "      <td>14.83</td>\n",
       "      <td>12.78</td>\n",
       "    </tr>\n",
       "    <tr>\n",
       "      <th>NGX - FINANCIAL SERVICES</th>\n",
       "      <td>42.30</td>\n",
       "      <td>41.54</td>\n",
       "      <td>42.54</td>\n",
       "      <td>45.73</td>\n",
       "    </tr>\n",
       "    <tr>\n",
       "      <th>NGX - BREWERIES</th>\n",
       "      <td>49.45</td>\n",
       "      <td>60.02</td>\n",
       "      <td>60.60</td>\n",
       "      <td>63.68</td>\n",
       "    </tr>\n",
       "    <tr>\n",
       "      <th>NGX - TELECOMMUNICATION</th>\n",
       "      <td>19.70</td>\n",
       "      <td>36.41</td>\n",
       "      <td>37.41</td>\n",
       "      <td>52.09</td>\n",
       "    </tr>\n",
       "    <tr>\n",
       "      <th>NGX - INSURANCE</th>\n",
       "      <td>18.31</td>\n",
       "      <td>19.84</td>\n",
       "      <td>20.84</td>\n",
       "      <td>26.69</td>\n",
       "    </tr>\n",
       "    <tr>\n",
       "      <th>NGX - PACKAGED FOODS</th>\n",
       "      <td>35.10</td>\n",
       "      <td>36.52</td>\n",
       "      <td>35.14</td>\n",
       "      <td>33.59</td>\n",
       "    </tr>\n",
       "    <tr>\n",
       "      <th>NGX - INDUSTRIALS</th>\n",
       "      <td>49.48</td>\n",
       "      <td>51.21</td>\n",
       "      <td>52.93</td>\n",
       "      <td>56.34</td>\n",
       "    </tr>\n",
       "    <tr>\n",
       "      <th>NGX - CONSTRUCTION</th>\n",
       "      <td>12.59</td>\n",
       "      <td>13.74</td>\n",
       "      <td>14.74</td>\n",
       "      <td>14.70</td>\n",
       "    </tr>\n",
       "    <tr>\n",
       "      <th>NGX - TECHNOLOGY SERVICES</th>\n",
       "      <td>-5.13</td>\n",
       "      <td>-7.69</td>\n",
       "      <td>-6.69</td>\n",
       "      <td>-7.41</td>\n",
       "    </tr>\n",
       "    <tr>\n",
       "      <th>NGX - OIL &amp; GAS SERVICES</th>\n",
       "      <td>26.96</td>\n",
       "      <td>29.14</td>\n",
       "      <td>27.14</td>\n",
       "      <td>26.90</td>\n",
       "    </tr>\n",
       "    <tr>\n",
       "      <th>NGX - TRANSPORTATION, AVIATION AND LOGISTICS</th>\n",
       "      <td>75.34</td>\n",
       "      <td>73.27</td>\n",
       "      <td>76.27</td>\n",
       "      <td>78.34</td>\n",
       "    </tr>\n",
       "    <tr>\n",
       "      <th>NGX - PHARMACEUTICALS</th>\n",
       "      <td>11.68</td>\n",
       "      <td>25.71</td>\n",
       "      <td>32.71</td>\n",
       "      <td>42.78</td>\n",
       "    </tr>\n",
       "    <tr>\n",
       "      <th>NGX - HOSPITALITY</th>\n",
       "      <td>111.68</td>\n",
       "      <td>102.92</td>\n",
       "      <td>109.92</td>\n",
       "      <td>126.28</td>\n",
       "    </tr>\n",
       "    <tr>\n",
       "      <th>NGX - AGRICULTURAL SERVICES</th>\n",
       "      <td>31.99</td>\n",
       "      <td>30.05</td>\n",
       "      <td>33.05</td>\n",
       "      <td>46.52</td>\n",
       "    </tr>\n",
       "    <tr>\n",
       "      <th>NGX - CONGLOMERATES</th>\n",
       "      <td>42.42</td>\n",
       "      <td>45.24</td>\n",
       "      <td>47.24</td>\n",
       "      <td>51.79</td>\n",
       "    </tr>\n",
       "    <tr>\n",
       "      <th>NGX - REIT/REAL ESTATE</th>\n",
       "      <td>4.71</td>\n",
       "      <td>1.35</td>\n",
       "      <td>1.35</td>\n",
       "      <td>1.01</td>\n",
       "    </tr>\n",
       "  </tbody>\n",
       "</table>\n",
       "</div>"
      ],
      "text/plain": [
       "                                              Week 1  Week 2  Week 3  Week 4\n",
       "Sector                                                                      \n",
       "NGX - BANKING SERVICES                         14.06   15.60   14.83   12.78\n",
       "NGX - FINANCIAL SERVICES                       42.30   41.54   42.54   45.73\n",
       "NGX - BREWERIES                                49.45   60.02   60.60   63.68\n",
       "NGX - TELECOMMUNICATION                        19.70   36.41   37.41   52.09\n",
       "NGX - INSURANCE                                18.31   19.84   20.84   26.69\n",
       "NGX - PACKAGED FOODS                           35.10   36.52   35.14   33.59\n",
       "NGX - INDUSTRIALS                              49.48   51.21   52.93   56.34\n",
       "NGX - CONSTRUCTION                             12.59   13.74   14.74   14.70\n",
       "NGX - TECHNOLOGY SERVICES                      -5.13   -7.69   -6.69   -7.41\n",
       "NGX - OIL & GAS SERVICES                       26.96   29.14   27.14   26.90\n",
       "NGX - TRANSPORTATION, AVIATION AND LOGISTICS   75.34   73.27   76.27   78.34\n",
       "NGX - PHARMACEUTICALS                          11.68   25.71   32.71   42.78\n",
       "NGX - HOSPITALITY                             111.68  102.92  109.92  126.28\n",
       "NGX - AGRICULTURAL SERVICES                    31.99   30.05   33.05   46.52\n",
       "NGX - CONGLOMERATES                            42.42   45.24   47.24   51.79\n",
       "NGX - REIT/REAL ESTATE                          4.71    1.35    1.35    1.01"
      ]
     },
     "execution_count": 91,
     "metadata": {},
     "output_type": "execute_result"
    }
   ],
   "source": [
    "# Display the prepared DataFrame containing weekly performance data for each NGX sector\n",
    "df"
   ]
  },
  {
   "cell_type": "code",
   "execution_count": 93,
   "id": "1716239c-78bf-41b8-8b3a-e1f40f02c0b3",
   "metadata": {},
   "outputs": [],
   "source": [
    "# -------------------------\n",
    "# Step 3: Compute Linear Trend Slope and Categorize Performance Trends\n",
    "# -------------------------\n",
    "\n",
    "# Function to calculate the slope of the linear regression line over weekly data,\n",
    "# quantifying the direction and magnitude of each sector’s performance trend\n",
    "def determine_trend(values):\n",
    "    x = np.arange(len(values))              # Week indices: [0, 1, 2, 3]\n",
    "    slope, _, _, _, _ = linregress(x, values)\n",
    "    return slope\n",
    "\n",
    "# Calculate trend slopes for each sector and assign corresponding trend labels\n",
    "df[\"Trend Slope\"] = df.apply(determine_trend, axis=1)\n",
    "df[\"Trend\"] = df[\"Trend Slope\"].apply(lambda x: \"Uptrend\" if x > 0 else (\"Downtrend\" if x < 0 else \"Flat\"))\n"
   ]
  },
  {
   "cell_type": "code",
   "execution_count": 95,
   "id": "90d1ee6e-9a18-4907-833d-12e2ea34bf63",
   "metadata": {},
   "outputs": [
    {
     "data": {
      "application/vnd.plotly.v1+json": {
       "config": {
        "plotlyServerURL": "https://plot.ly"
       },
       "data": [
        {
         "alignmentgroup": "True",
         "customdata": [
          [
           "Downtrend",
           13
          ],
          [
           "Downtrend",
           15
          ],
          [
           "Downtrend",
           14
          ],
          [
           "Downtrend",
           12
          ],
          [
           "Downtrend",
           16
          ]
         ],
         "hovertemplate": "Color=red<br>Trend Slope=%{x}<br>Sector=%{y}<br>Trend=%{customdata[0]}<br>Trend Strength Rank=%{customdata[1]}<extra></extra>",
         "legendgroup": "red",
         "marker": {
          "color": "red",
          "pattern": {
           "shape": ""
          }
         },
         "name": "red",
         "offsetgroup": "red",
         "orientation": "h",
         "showlegend": true,
         "textposition": "auto",
         "type": "bar",
         "x": [
          -0.4610000000000003,
          -0.5909999999999996,
          -0.5840000000000001,
          -0.2180000000000007,
          -1.1099999999999999
         ],
         "xaxis": "x",
         "y": [
          "NGX - BANKING SERVICES",
          "NGX - PACKAGED FOODS",
          "NGX - TECHNOLOGY SERVICES",
          "NGX - OIL & GAS SERVICES",
          "NGX - REIT/REAL ESTATE"
         ],
         "yaxis": "y"
        },
        {
         "alignmentgroup": "True",
         "customdata": [
          [
           "Uptrend",
           10
          ],
          [
           "Uptrend",
           5
          ],
          [
           "Uptrend",
           2
          ],
          [
           "Uptrend",
           7
          ],
          [
           "Uptrend",
           8
          ],
          [
           "Uptrend",
           11
          ],
          [
           "Uptrend",
           9
          ],
          [
           "Uptrend",
           1
          ],
          [
           "Uptrend",
           3
          ],
          [
           "Uptrend",
           4
          ],
          [
           "Uptrend",
           6
          ]
         ],
         "hovertemplate": "Color=green<br>Trend Slope=%{x}<br>Sector=%{y}<br>Trend=%{customdata[0]}<br>Trend Strength Rank=%{customdata[1]}<extra></extra>",
         "legendgroup": "green",
         "marker": {
          "color": "green",
          "pattern": {
           "shape": ""
          }
         },
         "name": "green",
         "offsetgroup": "green",
         "orientation": "h",
         "showlegend": true,
         "textposition": "auto",
         "type": "bar",
         "x": [
          1.129,
          4.326999999999999,
          9.817000000000002,
          2.6140000000000008,
          2.2300000000000018,
          0.7329999999999999,
          1.2,
          10.030000000000001,
          5.079999999999998,
          4.659000000000001,
          3.0109999999999992
         ],
         "xaxis": "x",
         "y": [
          "NGX - FINANCIAL SERVICES",
          "NGX - BREWERIES",
          "NGX - TELECOMMUNICATION",
          "NGX - INSURANCE",
          "NGX - INDUSTRIALS",
          "NGX - CONSTRUCTION",
          "NGX - TRANSPORTATION, AVIATION AND LOGISTICS",
          "NGX - PHARMACEUTICALS",
          "NGX - HOSPITALITY",
          "NGX - AGRICULTURAL SERVICES",
          "NGX - CONGLOMERATES"
         ],
         "yaxis": "y"
        }
       ],
       "layout": {
        "autosize": true,
        "barmode": "relative",
        "legend": {
         "title": {
          "text": "Color"
         },
         "tracegroupgap": 0
        },
        "shapes": [
         {
          "line": {
           "color": "black",
           "dash": "dash"
          },
          "type": "line",
          "x0": 0,
          "x1": 0,
          "xref": "x",
          "y0": 0,
          "y1": 1,
          "yref": "y domain"
         }
        ],
        "showlegend": false,
        "template": {
         "data": {
          "bar": [
           {
            "error_x": {
             "color": "#2a3f5f"
            },
            "error_y": {
             "color": "#2a3f5f"
            },
            "marker": {
             "line": {
              "color": "#E5ECF6",
              "width": 0.5
             },
             "pattern": {
              "fillmode": "overlay",
              "size": 10,
              "solidity": 0.2
             }
            },
            "type": "bar"
           }
          ],
          "barpolar": [
           {
            "marker": {
             "line": {
              "color": "#E5ECF6",
              "width": 0.5
             },
             "pattern": {
              "fillmode": "overlay",
              "size": 10,
              "solidity": 0.2
             }
            },
            "type": "barpolar"
           }
          ],
          "carpet": [
           {
            "aaxis": {
             "endlinecolor": "#2a3f5f",
             "gridcolor": "white",
             "linecolor": "white",
             "minorgridcolor": "white",
             "startlinecolor": "#2a3f5f"
            },
            "baxis": {
             "endlinecolor": "#2a3f5f",
             "gridcolor": "white",
             "linecolor": "white",
             "minorgridcolor": "white",
             "startlinecolor": "#2a3f5f"
            },
            "type": "carpet"
           }
          ],
          "choropleth": [
           {
            "colorbar": {
             "outlinewidth": 0,
             "ticks": ""
            },
            "type": "choropleth"
           }
          ],
          "contour": [
           {
            "colorbar": {
             "outlinewidth": 0,
             "ticks": ""
            },
            "colorscale": [
             [
              0,
              "#0d0887"
             ],
             [
              0.1111111111111111,
              "#46039f"
             ],
             [
              0.2222222222222222,
              "#7201a8"
             ],
             [
              0.3333333333333333,
              "#9c179e"
             ],
             [
              0.4444444444444444,
              "#bd3786"
             ],
             [
              0.5555555555555556,
              "#d8576b"
             ],
             [
              0.6666666666666666,
              "#ed7953"
             ],
             [
              0.7777777777777778,
              "#fb9f3a"
             ],
             [
              0.8888888888888888,
              "#fdca26"
             ],
             [
              1,
              "#f0f921"
             ]
            ],
            "type": "contour"
           }
          ],
          "contourcarpet": [
           {
            "colorbar": {
             "outlinewidth": 0,
             "ticks": ""
            },
            "type": "contourcarpet"
           }
          ],
          "heatmap": [
           {
            "colorbar": {
             "outlinewidth": 0,
             "ticks": ""
            },
            "colorscale": [
             [
              0,
              "#0d0887"
             ],
             [
              0.1111111111111111,
              "#46039f"
             ],
             [
              0.2222222222222222,
              "#7201a8"
             ],
             [
              0.3333333333333333,
              "#9c179e"
             ],
             [
              0.4444444444444444,
              "#bd3786"
             ],
             [
              0.5555555555555556,
              "#d8576b"
             ],
             [
              0.6666666666666666,
              "#ed7953"
             ],
             [
              0.7777777777777778,
              "#fb9f3a"
             ],
             [
              0.8888888888888888,
              "#fdca26"
             ],
             [
              1,
              "#f0f921"
             ]
            ],
            "type": "heatmap"
           }
          ],
          "heatmapgl": [
           {
            "colorbar": {
             "outlinewidth": 0,
             "ticks": ""
            },
            "colorscale": [
             [
              0,
              "#0d0887"
             ],
             [
              0.1111111111111111,
              "#46039f"
             ],
             [
              0.2222222222222222,
              "#7201a8"
             ],
             [
              0.3333333333333333,
              "#9c179e"
             ],
             [
              0.4444444444444444,
              "#bd3786"
             ],
             [
              0.5555555555555556,
              "#d8576b"
             ],
             [
              0.6666666666666666,
              "#ed7953"
             ],
             [
              0.7777777777777778,
              "#fb9f3a"
             ],
             [
              0.8888888888888888,
              "#fdca26"
             ],
             [
              1,
              "#f0f921"
             ]
            ],
            "type": "heatmapgl"
           }
          ],
          "histogram": [
           {
            "marker": {
             "pattern": {
              "fillmode": "overlay",
              "size": 10,
              "solidity": 0.2
             }
            },
            "type": "histogram"
           }
          ],
          "histogram2d": [
           {
            "colorbar": {
             "outlinewidth": 0,
             "ticks": ""
            },
            "colorscale": [
             [
              0,
              "#0d0887"
             ],
             [
              0.1111111111111111,
              "#46039f"
             ],
             [
              0.2222222222222222,
              "#7201a8"
             ],
             [
              0.3333333333333333,
              "#9c179e"
             ],
             [
              0.4444444444444444,
              "#bd3786"
             ],
             [
              0.5555555555555556,
              "#d8576b"
             ],
             [
              0.6666666666666666,
              "#ed7953"
             ],
             [
              0.7777777777777778,
              "#fb9f3a"
             ],
             [
              0.8888888888888888,
              "#fdca26"
             ],
             [
              1,
              "#f0f921"
             ]
            ],
            "type": "histogram2d"
           }
          ],
          "histogram2dcontour": [
           {
            "colorbar": {
             "outlinewidth": 0,
             "ticks": ""
            },
            "colorscale": [
             [
              0,
              "#0d0887"
             ],
             [
              0.1111111111111111,
              "#46039f"
             ],
             [
              0.2222222222222222,
              "#7201a8"
             ],
             [
              0.3333333333333333,
              "#9c179e"
             ],
             [
              0.4444444444444444,
              "#bd3786"
             ],
             [
              0.5555555555555556,
              "#d8576b"
             ],
             [
              0.6666666666666666,
              "#ed7953"
             ],
             [
              0.7777777777777778,
              "#fb9f3a"
             ],
             [
              0.8888888888888888,
              "#fdca26"
             ],
             [
              1,
              "#f0f921"
             ]
            ],
            "type": "histogram2dcontour"
           }
          ],
          "mesh3d": [
           {
            "colorbar": {
             "outlinewidth": 0,
             "ticks": ""
            },
            "type": "mesh3d"
           }
          ],
          "parcoords": [
           {
            "line": {
             "colorbar": {
              "outlinewidth": 0,
              "ticks": ""
             }
            },
            "type": "parcoords"
           }
          ],
          "pie": [
           {
            "automargin": true,
            "type": "pie"
           }
          ],
          "scatter": [
           {
            "fillpattern": {
             "fillmode": "overlay",
             "size": 10,
             "solidity": 0.2
            },
            "type": "scatter"
           }
          ],
          "scatter3d": [
           {
            "line": {
             "colorbar": {
              "outlinewidth": 0,
              "ticks": ""
             }
            },
            "marker": {
             "colorbar": {
              "outlinewidth": 0,
              "ticks": ""
             }
            },
            "type": "scatter3d"
           }
          ],
          "scattercarpet": [
           {
            "marker": {
             "colorbar": {
              "outlinewidth": 0,
              "ticks": ""
             }
            },
            "type": "scattercarpet"
           }
          ],
          "scattergeo": [
           {
            "marker": {
             "colorbar": {
              "outlinewidth": 0,
              "ticks": ""
             }
            },
            "type": "scattergeo"
           }
          ],
          "scattergl": [
           {
            "marker": {
             "colorbar": {
              "outlinewidth": 0,
              "ticks": ""
             }
            },
            "type": "scattergl"
           }
          ],
          "scattermapbox": [
           {
            "marker": {
             "colorbar": {
              "outlinewidth": 0,
              "ticks": ""
             }
            },
            "type": "scattermapbox"
           }
          ],
          "scatterpolar": [
           {
            "marker": {
             "colorbar": {
              "outlinewidth": 0,
              "ticks": ""
             }
            },
            "type": "scatterpolar"
           }
          ],
          "scatterpolargl": [
           {
            "marker": {
             "colorbar": {
              "outlinewidth": 0,
              "ticks": ""
             }
            },
            "type": "scatterpolargl"
           }
          ],
          "scatterternary": [
           {
            "marker": {
             "colorbar": {
              "outlinewidth": 0,
              "ticks": ""
             }
            },
            "type": "scatterternary"
           }
          ],
          "surface": [
           {
            "colorbar": {
             "outlinewidth": 0,
             "ticks": ""
            },
            "colorscale": [
             [
              0,
              "#0d0887"
             ],
             [
              0.1111111111111111,
              "#46039f"
             ],
             [
              0.2222222222222222,
              "#7201a8"
             ],
             [
              0.3333333333333333,
              "#9c179e"
             ],
             [
              0.4444444444444444,
              "#bd3786"
             ],
             [
              0.5555555555555556,
              "#d8576b"
             ],
             [
              0.6666666666666666,
              "#ed7953"
             ],
             [
              0.7777777777777778,
              "#fb9f3a"
             ],
             [
              0.8888888888888888,
              "#fdca26"
             ],
             [
              1,
              "#f0f921"
             ]
            ],
            "type": "surface"
           }
          ],
          "table": [
           {
            "cells": {
             "fill": {
              "color": "#EBF0F8"
             },
             "line": {
              "color": "white"
             }
            },
            "header": {
             "fill": {
              "color": "#C8D4E3"
             },
             "line": {
              "color": "white"
             }
            },
            "type": "table"
           }
          ]
         },
         "layout": {
          "annotationdefaults": {
           "arrowcolor": "#2a3f5f",
           "arrowhead": 0,
           "arrowwidth": 1
          },
          "autotypenumbers": "strict",
          "coloraxis": {
           "colorbar": {
            "outlinewidth": 0,
            "ticks": ""
           }
          },
          "colorscale": {
           "diverging": [
            [
             0,
             "#8e0152"
            ],
            [
             0.1,
             "#c51b7d"
            ],
            [
             0.2,
             "#de77ae"
            ],
            [
             0.3,
             "#f1b6da"
            ],
            [
             0.4,
             "#fde0ef"
            ],
            [
             0.5,
             "#f7f7f7"
            ],
            [
             0.6,
             "#e6f5d0"
            ],
            [
             0.7,
             "#b8e186"
            ],
            [
             0.8,
             "#7fbc41"
            ],
            [
             0.9,
             "#4d9221"
            ],
            [
             1,
             "#276419"
            ]
           ],
           "sequential": [
            [
             0,
             "#0d0887"
            ],
            [
             0.1111111111111111,
             "#46039f"
            ],
            [
             0.2222222222222222,
             "#7201a8"
            ],
            [
             0.3333333333333333,
             "#9c179e"
            ],
            [
             0.4444444444444444,
             "#bd3786"
            ],
            [
             0.5555555555555556,
             "#d8576b"
            ],
            [
             0.6666666666666666,
             "#ed7953"
            ],
            [
             0.7777777777777778,
             "#fb9f3a"
            ],
            [
             0.8888888888888888,
             "#fdca26"
            ],
            [
             1,
             "#f0f921"
            ]
           ],
           "sequentialminus": [
            [
             0,
             "#0d0887"
            ],
            [
             0.1111111111111111,
             "#46039f"
            ],
            [
             0.2222222222222222,
             "#7201a8"
            ],
            [
             0.3333333333333333,
             "#9c179e"
            ],
            [
             0.4444444444444444,
             "#bd3786"
            ],
            [
             0.5555555555555556,
             "#d8576b"
            ],
            [
             0.6666666666666666,
             "#ed7953"
            ],
            [
             0.7777777777777778,
             "#fb9f3a"
            ],
            [
             0.8888888888888888,
             "#fdca26"
            ],
            [
             1,
             "#f0f921"
            ]
           ]
          },
          "colorway": [
           "#636efa",
           "#EF553B",
           "#00cc96",
           "#ab63fa",
           "#FFA15A",
           "#19d3f3",
           "#FF6692",
           "#B6E880",
           "#FF97FF",
           "#FECB52"
          ],
          "font": {
           "color": "#2a3f5f"
          },
          "geo": {
           "bgcolor": "white",
           "lakecolor": "white",
           "landcolor": "#E5ECF6",
           "showlakes": true,
           "showland": true,
           "subunitcolor": "white"
          },
          "hoverlabel": {
           "align": "left"
          },
          "hovermode": "closest",
          "mapbox": {
           "style": "light"
          },
          "paper_bgcolor": "white",
          "plot_bgcolor": "#E5ECF6",
          "polar": {
           "angularaxis": {
            "gridcolor": "white",
            "linecolor": "white",
            "ticks": ""
           },
           "bgcolor": "#E5ECF6",
           "radialaxis": {
            "gridcolor": "white",
            "linecolor": "white",
            "ticks": ""
           }
          },
          "scene": {
           "xaxis": {
            "backgroundcolor": "#E5ECF6",
            "gridcolor": "white",
            "gridwidth": 2,
            "linecolor": "white",
            "showbackground": true,
            "ticks": "",
            "zerolinecolor": "white"
           },
           "yaxis": {
            "backgroundcolor": "#E5ECF6",
            "gridcolor": "white",
            "gridwidth": 2,
            "linecolor": "white",
            "showbackground": true,
            "ticks": "",
            "zerolinecolor": "white"
           },
           "zaxis": {
            "backgroundcolor": "#E5ECF6",
            "gridcolor": "white",
            "gridwidth": 2,
            "linecolor": "white",
            "showbackground": true,
            "ticks": "",
            "zerolinecolor": "white"
           }
          },
          "shapedefaults": {
           "line": {
            "color": "#2a3f5f"
           }
          },
          "ternary": {
           "aaxis": {
            "gridcolor": "white",
            "linecolor": "white",
            "ticks": ""
           },
           "baxis": {
            "gridcolor": "white",
            "linecolor": "white",
            "ticks": ""
           },
           "bgcolor": "#E5ECF6",
           "caxis": {
            "gridcolor": "white",
            "linecolor": "white",
            "ticks": ""
           }
          },
          "title": {
           "x": 0.05
          },
          "xaxis": {
           "automargin": true,
           "gridcolor": "white",
           "linecolor": "white",
           "ticks": "",
           "title": {
            "standoff": 15
           },
           "zerolinecolor": "white",
           "zerolinewidth": 2
          },
          "yaxis": {
           "automargin": true,
           "gridcolor": "white",
           "linecolor": "white",
           "ticks": "",
           "title": {
            "standoff": 15
           },
           "zerolinecolor": "white",
           "zerolinewidth": 2
          }
         }
        },
        "title": {
         "text": "NGX Sector Trend Slopes (Linear Regression)"
        },
        "xaxis": {
         "anchor": "y",
         "autorange": true,
         "domain": [
          0,
          1
         ],
         "range": [
          -1.7288888888888887,
          10.64888888888889
         ],
         "title": {
          "text": "Trend Slope"
         },
         "type": "linear"
        },
        "yaxis": {
         "anchor": "x",
         "autorange": true,
         "domain": [
          0,
          1
         ],
         "range": [
          15.5,
          -0.5
         ],
         "title": {
          "text": "Sector"
         },
         "type": "category"
        }
       }
      },
      "image/png": "[encoded data removed]",
      "text/html": [
       "<div>                            <div id=\"5e1e8775-231d-44e8-92a0-340d12cb1b91\" class=\"plotly-graph-div\" style=\"height:600px; width:100%;\"></div>            <script type=\"text/javascript\">                require([\"plotly\"], function(Plotly) {                    window.PLOTLYENV=window.PLOTLYENV || {};                                    if (document.getElementById(\"5e1e8775-231d-44e8-92a0-340d12cb1b91\")) {                    Plotly.newPlot(                        \"5e1e8775-231d-44e8-92a0-340d12cb1b91\",                        [{\"alignmentgroup\":\"True\",\"customdata\":[[\"Downtrend\",13.0],[\"Downtrend\",15.0],[\"Downtrend\",14.0],[\"Downtrend\",12.0],[\"Downtrend\",16.0]],\"hovertemplate\":\"Color=red\\u003cbr\\u003eTrend Slope=%{x}\\u003cbr\\u003eSector=%{y}\\u003cbr\\u003eTrend=%{customdata[0]}\\u003cbr\\u003eTrend Strength Rank=%{customdata[1]}\\u003cextra\\u003e\\u003c\\u002fextra\\u003e\",\"legendgroup\":\"red\",\"marker\":{\"color\":\"red\",\"pattern\":{\"shape\":\"\"}},\"name\":\"red\",\"offsetgroup\":\"red\",\"orientation\":\"h\",\"showlegend\":true,\"textposition\":\"auto\",\"x\":[-0.4610000000000003,-0.5909999999999996,-0.5840000000000001,-0.2180000000000007,-1.1099999999999999],\"xaxis\":\"x\",\"y\":[\"NGX - BANKING SERVICES\",\"NGX - PACKAGED FOODS\",\"NGX - TECHNOLOGY SERVICES\",\"NGX - OIL & GAS SERVICES\",\"NGX - REIT\\u002fREAL ESTATE\"],\"yaxis\":\"y\",\"type\":\"bar\"},{\"alignmentgroup\":\"True\",\"customdata\":[[\"Uptrend\",10.0],[\"Uptrend\",5.0],[\"Uptrend\",2.0],[\"Uptrend\",7.0],[\"Uptrend\",8.0],[\"Uptrend\",11.0],[\"Uptrend\",9.0],[\"Uptrend\",1.0],[\"Uptrend\",3.0],[\"Uptrend\",4.0],[\"Uptrend\",6.0]],\"hovertemplate\":\"Color=green\\u003cbr\\u003eTrend Slope=%{x}\\u003cbr\\u003eSector=%{y}\\u003cbr\\u003eTrend=%{customdata[0]}\\u003cbr\\u003eTrend Strength Rank=%{customdata[1]}\\u003cextra\\u003e\\u003c\\u002fextra\\u003e\",\"legendgroup\":\"green\",\"marker\":{\"color\":\"green\",\"pattern\":{\"shape\":\"\"}},\"name\":\"green\",\"offsetgroup\":\"green\",\"orientation\":\"h\",\"showlegend\":true,\"textposition\":\"auto\",\"x\":[1.129,4.326999999999999,9.817000000000002,2.6140000000000008,2.2300000000000018,0.7329999999999999,1.2,10.030000000000001,5.079999999999998,4.659000000000001,3.0109999999999992],\"xaxis\":\"x\",\"y\":[\"NGX - FINANCIAL SERVICES\",\"NGX - BREWERIES\",\"NGX - TELECOMMUNICATION\",\"NGX - INSURANCE\",\"NGX - INDUSTRIALS\",\"NGX - CONSTRUCTION\",\"NGX - TRANSPORTATION, AVIATION AND LOGISTICS\",\"NGX - PHARMACEUTICALS\",\"NGX - HOSPITALITY\",\"NGX - AGRICULTURAL SERVICES\",\"NGX - CONGLOMERATES\"],\"yaxis\":\"y\",\"type\":\"bar\"}],                        {\"template\":{\"data\":{\"histogram2dcontour\":[{\"type\":\"histogram2dcontour\",\"colorbar\":{\"outlinewidth\":0,\"ticks\":\"\"},\"colorscale\":[[0.0,\"#0d0887\"],[0.1111111111111111,\"#46039f\"],[0.2222222222222222,\"#7201a8\"],[0.3333333333333333,\"#9c179e\"],[0.4444444444444444,\"#bd3786\"],[0.5555555555555556,\"#d8576b\"],[0.6666666666666666,\"#ed7953\"],[0.7777777777777778,\"#fb9f3a\"],[0.8888888888888888,\"#fdca26\"],[1.0,\"#f0f921\"]]}],\"choropleth\":[{\"type\":\"choropleth\",\"colorbar\":{\"outlinewidth\":0,\"ticks\":\"\"}}],\"histogram2d\":[{\"type\":\"histogram2d\",\"colorbar\":{\"outlinewidth\":0,\"ticks\":\"\"},\"colorscale\":[[0.0,\"#0d0887\"],[0.1111111111111111,\"#46039f\"],[0.2222222222222222,\"#7201a8\"],[0.3333333333333333,\"#9c179e\"],[0.4444444444444444,\"#bd3786\"],[0.5555555555555556,\"#d8576b\"],[0.6666666666666666,\"#ed7953\"],[0.7777777777777778,\"#fb9f3a\"],[0.8888888888888888,\"#fdca26\"],[1.0,\"#f0f921\"]]}],\"heatmap\":[{\"type\":\"heatmap\",\"colorbar\":{\"outlinewidth\":0,\"ticks\":\"\"},\"colorscale\":[[0.0,\"#0d0887\"],[0.1111111111111111,\"#46039f\"],[0.2222222222222222,\"#7201a8\"],[0.3333333333333333,\"#9c179e\"],[0.4444444444444444,\"#bd3786\"],[0.5555555555555556,\"#d8576b\"],[0.6666666666666666,\"#ed7953\"],[0.7777777777777778,\"#fb9f3a\"],[0.8888888888888888,\"#fdca26\"],[1.0,\"#f0f921\"]]}],\"heatmapgl\":[{\"type\":\"heatmapgl\",\"colorbar\":{\"outlinewidth\":0,\"ticks\":\"\"},\"colorscale\":[[0.0,\"#0d0887\"],[0.1111111111111111,\"#46039f\"],[0.2222222222222222,\"#7201a8\"],[0.3333333333333333,\"#9c179e\"],[0.4444444444444444,\"#bd3786\"],[0.5555555555555556,\"#d8576b\"],[0.6666666666666666,\"#ed7953\"],[0.7777777777777778,\"#fb9f3a\"],[0.8888888888888888,\"#fdca26\"],[1.0,\"#f0f921\"]]}],\"contourcarpet\":[{\"type\":\"contourcarpet\",\"colorbar\":{\"outlinewidth\":0,\"ticks\":\"\"}}],\"contour\":[{\"type\":\"contour\",\"colorbar\":{\"outlinewidth\":0,\"ticks\":\"\"},\"colorscale\":[[0.0,\"#0d0887\"],[0.1111111111111111,\"#46039f\"],[0.2222222222222222,\"#7201a8\"],[0.3333333333333333,\"#9c179e\"],[0.4444444444444444,\"#bd3786\"],[0.5555555555555556,\"#d8576b\"],[0.6666666666666666,\"#ed7953\"],[0.7777777777777778,\"#fb9f3a\"],[0.8888888888888888,\"#fdca26\"],[1.0,\"#f0f921\"]]}],\"surface\":[{\"type\":\"surface\",\"colorbar\":{\"outlinewidth\":0,\"ticks\":\"\"},\"colorscale\":[[0.0,\"#0d0887\"],[0.1111111111111111,\"#46039f\"],[0.2222222222222222,\"#7201a8\"],[0.3333333333333333,\"#9c179e\"],[0.4444444444444444,\"#bd3786\"],[0.5555555555555556,\"#d8576b\"],[0.6666666666666666,\"#ed7953\"],[0.7777777777777778,\"#fb9f3a\"],[0.8888888888888888,\"#fdca26\"],[1.0,\"#f0f921\"]]}],\"mesh3d\":[{\"type\":\"mesh3d\",\"colorbar\":{\"outlinewidth\":0,\"ticks\":\"\"}}],\"scatter\":[{\"fillpattern\":{\"fillmode\":\"overlay\",\"size\":10,\"solidity\":0.2},\"type\":\"scatter\"}],\"parcoords\":[{\"type\":\"parcoords\",\"line\":{\"colorbar\":{\"outlinewidth\":0,\"ticks\":\"\"}}}],\"scatterpolargl\":[{\"type\":\"scatterpolargl\",\"marker\":{\"colorbar\":{\"outlinewidth\":0,\"ticks\":\"\"}}}],\"bar\":[{\"error_x\":{\"color\":\"#2a3f5f\"},\"error_y\":{\"color\":\"#2a3f5f\"},\"marker\":{\"line\":{\"color\":\"#E5ECF6\",\"width\":0.5},\"pattern\":{\"fillmode\":\"overlay\",\"size\":10,\"solidity\":0.2}},\"type\":\"bar\"}],\"scattergeo\":[{\"type\":\"scattergeo\",\"marker\":{\"colorbar\":{\"outlinewidth\":0,\"ticks\":\"\"}}}],\"scatterpolar\":[{\"type\":\"scatterpolar\",\"marker\":{\"colorbar\":{\"outlinewidth\":0,\"ticks\":\"\"}}}],\"histogram\":[{\"marker\":{\"pattern\":{\"fillmode\":\"overlay\",\"size\":10,\"solidity\":0.2}},\"type\":\"histogram\"}],\"scattergl\":[{\"type\":\"scattergl\",\"marker\":{\"colorbar\":{\"outlinewidth\":0,\"ticks\":\"\"}}}],\"scatter3d\":[{\"type\":\"scatter3d\",\"line\":{\"colorbar\":{\"outlinewidth\":0,\"ticks\":\"\"}},\"marker\":{\"colorbar\":{\"outlinewidth\":0,\"ticks\":\"\"}}}],\"scattermapbox\":[{\"type\":\"scattermapbox\",\"marker\":{\"colorbar\":{\"outlinewidth\":0,\"ticks\":\"\"}}}],\"scatterternary\":[{\"type\":\"scatterternary\",\"marker\":{\"colorbar\":{\"outlinewidth\":0,\"ticks\":\"\"}}}],\"scattercarpet\":[{\"type\":\"scattercarpet\",\"marker\":{\"colorbar\":{\"outlinewidth\":0,\"ticks\":\"\"}}}],\"carpet\":[{\"aaxis\":{\"endlinecolor\":\"#2a3f5f\",\"gridcolor\":\"white\",\"linecolor\":\"white\",\"minorgridcolor\":\"white\",\"startlinecolor\":\"#2a3f5f\"},\"baxis\":{\"endlinecolor\":\"#2a3f5f\",\"gridcolor\":\"white\",\"linecolor\":\"white\",\"minorgridcolor\":\"white\",\"startlinecolor\":\"#2a3f5f\"},\"type\":\"carpet\"}],\"table\":[{\"cells\":{\"fill\":{\"color\":\"#EBF0F8\"},\"line\":{\"color\":\"white\"}},\"header\":{\"fill\":{\"color\":\"#C8D4E3\"},\"line\":{\"color\":\"white\"}},\"type\":\"table\"}],\"barpolar\":[{\"marker\":{\"line\":{\"color\":\"#E5ECF6\",\"width\":0.5},\"pattern\":{\"fillmode\":\"overlay\",\"size\":10,\"solidity\":0.2}},\"type\":\"barpolar\"}],\"pie\":[{\"automargin\":true,\"type\":\"pie\"}]},\"layout\":{\"autotypenumbers\":\"strict\",\"colorway\":[\"#636efa\",\"#EF553B\",\"#00cc96\",\"#ab63fa\",\"#FFA15A\",\"#19d3f3\",\"#FF6692\",\"#B6E880\",\"#FF97FF\",\"#FECB52\"],\"font\":{\"color\":\"#2a3f5f\"},\"hovermode\":\"closest\",\"hoverlabel\":{\"align\":\"left\"},\"paper_bgcolor\":\"white\",\"plot_bgcolor\":\"#E5ECF6\",\"polar\":{\"bgcolor\":\"#E5ECF6\",\"angularaxis\":{\"gridcolor\":\"white\",\"linecolor\":\"white\",\"ticks\":\"\"},\"radialaxis\":{\"gridcolor\":\"white\",\"linecolor\":\"white\",\"ticks\":\"\"}},\"ternary\":{\"bgcolor\":\"#E5ECF6\",\"aaxis\":{\"gridcolor\":\"white\",\"linecolor\":\"white\",\"ticks\":\"\"},\"baxis\":{\"gridcolor\":\"white\",\"linecolor\":\"white\",\"ticks\":\"\"},\"caxis\":{\"gridcolor\":\"white\",\"linecolor\":\"white\",\"ticks\":\"\"}},\"coloraxis\":{\"colorbar\":{\"outlinewidth\":0,\"ticks\":\"\"}},\"colorscale\":{\"sequential\":[[0.0,\"#0d0887\"],[0.1111111111111111,\"#46039f\"],[0.2222222222222222,\"#7201a8\"],[0.3333333333333333,\"#9c179e\"],[0.4444444444444444,\"#bd3786\"],[0.5555555555555556,\"#d8576b\"],[0.6666666666666666,\"#ed7953\"],[0.7777777777777778,\"#fb9f3a\"],[0.8888888888888888,\"#fdca26\"],[1.0,\"#f0f921\"]],\"sequentialminus\":[[0.0,\"#0d0887\"],[0.1111111111111111,\"#46039f\"],[0.2222222222222222,\"#7201a8\"],[0.3333333333333333,\"#9c179e\"],[0.4444444444444444,\"#bd3786\"],[0.5555555555555556,\"#d8576b\"],[0.6666666666666666,\"#ed7953\"],[0.7777777777777778,\"#fb9f3a\"],[0.8888888888888888,\"#fdca26\"],[1.0,\"#f0f921\"]],\"diverging\":[[0,\"#8e0152\"],[0.1,\"#c51b7d\"],[0.2,\"#de77ae\"],[0.3,\"#f1b6da\"],[0.4,\"#fde0ef\"],[0.5,\"#f7f7f7\"],[0.6,\"#e6f5d0\"],[0.7,\"#b8e186\"],[0.8,\"#7fbc41\"],[0.9,\"#4d9221\"],[1,\"#276419\"]]},\"xaxis\":{\"gridcolor\":\"white\",\"linecolor\":\"white\",\"ticks\":\"\",\"title\":{\"standoff\":15},\"zerolinecolor\":\"white\",\"automargin\":true,\"zerolinewidth\":2},\"yaxis\":{\"gridcolor\":\"white\",\"linecolor\":\"white\",\"ticks\":\"\",\"title\":{\"standoff\":15},\"zerolinecolor\":\"white\",\"automargin\":true,\"zerolinewidth\":2},\"scene\":{\"xaxis\":{\"backgroundcolor\":\"#E5ECF6\",\"gridcolor\":\"white\",\"linecolor\":\"white\",\"showbackground\":true,\"ticks\":\"\",\"zerolinecolor\":\"white\",\"gridwidth\":2},\"yaxis\":{\"backgroundcolor\":\"#E5ECF6\",\"gridcolor\":\"white\",\"linecolor\":\"white\",\"showbackground\":true,\"ticks\":\"\",\"zerolinecolor\":\"white\",\"gridwidth\":2},\"zaxis\":{\"backgroundcolor\":\"#E5ECF6\",\"gridcolor\":\"white\",\"linecolor\":\"white\",\"showbackground\":true,\"ticks\":\"\",\"zerolinecolor\":\"white\",\"gridwidth\":2}},\"shapedefaults\":{\"line\":{\"color\":\"#2a3f5f\"}},\"annotationdefaults\":{\"arrowcolor\":\"#2a3f5f\",\"arrowhead\":0,\"arrowwidth\":1},\"geo\":{\"bgcolor\":\"white\",\"landcolor\":\"#E5ECF6\",\"subunitcolor\":\"white\",\"showland\":true,\"showlakes\":true,\"lakecolor\":\"white\"},\"title\":{\"x\":0.05},\"mapbox\":{\"style\":\"light\"}}},\"xaxis\":{\"anchor\":\"y\",\"domain\":[0.0,1.0],\"title\":{\"text\":\"Trend Slope\"}},\"yaxis\":{\"anchor\":\"x\",\"domain\":[0.0,1.0],\"title\":{\"text\":\"Sector\"},\"autorange\":\"reversed\"},\"legend\":{\"title\":{\"text\":\"Color\"},\"tracegroupgap\":0},\"title\":{\"text\":\"NGX Sector Trend Slopes (Linear Regression)\"},\"barmode\":\"relative\",\"shapes\":[{\"line\":{\"color\":\"black\",\"dash\":\"dash\"},\"type\":\"line\",\"x0\":0,\"x1\":0,\"xref\":\"x\",\"y0\":0,\"y1\":1,\"yref\":\"y domain\"}],\"showlegend\":false,\"height\":600},                        {\"responsive\": true}                    ).then(function(){\n",
       "                            \n",
       "var gd = document.getElementById('5e1e8775-231d-44e8-92a0-340d12cb1b91');\n",
       "var x = new MutationObserver(function (mutations, observer) {{\n",
       "        var display = window.getComputedStyle(gd).display;\n",
       "        if (!display || display === 'none') {{\n",
       "            console.log([gd, 'removed!']);\n",
       "            Plotly.purge(gd);\n",
       "            observer.disconnect();\n",
       "        }}\n",
       "}});\n",
       "\n",
       "// Listen for the removal of the full notebook cells\n",
       "var notebookContainer = gd.closest('#notebook-container');\n",
       "if (notebookContainer) {{\n",
       "    x.observe(notebookContainer, {childList: true});\n",
       "}}\n",
       "\n",
       "// Listen for the clearing of the current output cell\n",
       "var outputEl = gd.closest('.output');\n",
       "if (outputEl) {{\n",
       "    x.observe(outputEl, {childList: true});\n",
       "}}\n",
       "\n",
       "                        })                };                });            </script>        </div>"
      ]
     },
     "metadata": {},
     "output_type": "display_data"
    }
   ],
   "source": [
    "# -------------------------\n",
    "# Step 4: Map Colors, Rank Trend Strength, and Plot Interactive Bar Chart\n",
    "# -------------------------\n",
    "\n",
    "# Map trend categories to colors for visualization\n",
    "df[\"Color\"] = df[\"Trend\"].map({\n",
    "    \"Uptrend\": \"green\",\n",
    "    \"Downtrend\": \"red\",\n",
    "    \"Flat\": \"gray\"\n",
    "})\n",
    "\n",
    "# Rank sectors by absolute trend slope to indicate trend strength (higher = stronger)\n",
    "df[\"Trend Strength Rank\"] = df[\"Trend Slope\"].rank(ascending=False)\n",
    "\n",
    "# Create horizontal interactive bar plot of trend slopes by sector\n",
    "fig = px.bar(\n",
    "    df.reset_index(),\n",
    "    x=\"Trend Slope\",\n",
    "    y=\"Sector\",\n",
    "    color=\"Color\",\n",
    "    color_discrete_map={\"green\": \"green\", \"red\": \"red\", \"gray\": \"gray\"},\n",
    "    orientation=\"h\",\n",
    "    title=\"NGX Sector Trend Slopes (Linear Regression)\",\n",
    "    labels={\"Trend Slope\": \"Trend Slope\", \"Sector\": \"Sector\"},\n",
    "    hover_data=[\"Trend\", \"Trend Strength Rank\"]\n",
    ")\n",
    "\n",
    "# Add vertical reference line at zero to separate uptrends from downtrends\n",
    "fig.add_vline(x=0, line_dash=\"dash\", line_color=\"black\")\n",
    "\n",
    "# Adjust layout for better readability and reverse y-axis to match sorted order\n",
    "fig.update_layout(\n",
    "    yaxis=dict(title=\"Sector\", autorange=\"reversed\"),\n",
    "    xaxis=dict(title=\"Trend Slope\"),\n",
    "    showlegend=False,\n",
    "    height=600\n",
    ")\n",
    "\n",
    "# Render the plot\n",
    "fig.show()\n"
   ]
  },
  {
   "cell_type": "code",
   "execution_count": 97,
   "id": "29efd12b-4288-473b-8ce0-d49edbb94f1b",
   "metadata": {},
   "outputs": [
    {
     "data": {
      "image/png": "[encoded data removed]",
      "text/plain": [
       "<Figure size 1400x1400 with 16 Axes>"
      ]
     },
     "metadata": {},
     "output_type": "display_data"
    }
   ],
   "source": [
    "# -------------------------\n",
    "# Step 5: Reshape Data and Create Faceted Line Plots per Sector\n",
    "# -------------------------\n",
    "\n",
    "# Transform DataFrame from wide to long format for easier plotting with seaborn\n",
    "df_plot = df.reset_index().melt(\n",
    "    id_vars=[\"Sector\"], \n",
    "    value_vars=[\"Week 1\", \"Week 2\", \"Week 3\", \"Week 4\"],\n",
    "    var_name=\"Week\", \n",
    "    value_name=\"Performance\"\n",
    ")\n",
    "\n",
    "# Create faceted line plots (small multiples) showing weekly performance trends per sector\n",
    "g = sns.FacetGrid(df_plot, col=\"Sector\", col_wrap=4, height=3.5, sharey=False)\n",
    "g.map_dataframe(sns.lineplot, x=\"Week\", y=\"Performance\")\n",
    "\n",
    "# Customize facet titles and x-axis labels for readability\n",
    "g.set_titles(col_template=\"{col_name}\", size=10)\n",
    "g.set_xticklabels(rotation=45)\n",
    "\n",
    "# Adjust layout and add overall plot title\n",
    "plt.subplots_adjust(top=0.95)\n",
    "g.fig.suptitle(\"NGX Sector Weekly Performance (Per Sector)\")\n",
    "\n",
    "# Display the plot\n",
    "plt.show()\n"
   ]
  },
  {
   "cell_type": "code",
   "execution_count": 99,
   "id": "ee8d936f-b7d2-42a4-90f5-e389c06ef180",
   "metadata": {},
   "outputs": [
    {
     "data": {
      "application/vnd.plotly.v1+json": {
       "config": {
        "plotlyServerURL": "https://plot.ly"
       },
       "data": [
        {
         "name": "NGX - BANKING SERVICES",
         "type": "scatter",
         "visible": true,
         "x": [
          "Week 1",
          "Week 2",
          "Week 3",
          "Week 4"
         ],
         "y": [
          14.06,
          15.6,
          14.83,
          12.78
         ]
        },
        {
         "name": "NGX - FINANCIAL SERVICES",
         "type": "scatter",
         "visible": false,
         "x": [
          "Week 1",
          "Week 2",
          "Week 3",
          "Week 4"
         ],
         "y": [
          42.3,
          41.54,
          42.54,
          45.73
         ]
        },
        {
         "name": "NGX - BREWERIES",
         "type": "scatter",
         "visible": false,
         "x": [
          "Week 1",
          "Week 2",
          "Week 3",
          "Week 4"
         ],
         "y": [
          49.45,
          60.02,
          60.6,
          63.68
         ]
        },
        {
         "name": "NGX - TELECOMMUNICATION",
         "type": "scatter",
         "visible": false,
         "x": [
          "Week 1",
          "Week 2",
          "Week 3",
          "Week 4"
         ],
         "y": [
          19.7,
          36.41,
          37.41,
          52.09
         ]
        },
        {
         "name": "NGX - INSURANCE",
         "type": "scatter",
         "visible": false,
         "x": [
          "Week 1",
          "Week 2",
          "Week 3",
          "Week 4"
         ],
         "y": [
          18.31,
          19.84,
          20.84,
          26.69
         ]
        },
        {
         "name": "NGX - PACKAGED FOODS",
         "type": "scatter",
         "visible": false,
         "x": [
          "Week 1",
          "Week 2",
          "Week 3",
          "Week 4"
         ],
         "y": [
          35.1,
          36.52,
          35.14,
          33.59
         ]
        },
        {
         "name": "NGX - INDUSTRIALS",
         "type": "scatter",
         "visible": false,
         "x": [
          "Week 1",
          "Week 2",
          "Week 3",
          "Week 4"
         ],
         "y": [
          49.48,
          51.21,
          52.93,
          56.34
         ]
        },
        {
         "name": "NGX - CONSTRUCTION",
         "type": "scatter",
         "visible": false,
         "x": [
          "Week 1",
          "Week 2",
          "Week 3",
          "Week 4"
         ],
         "y": [
          12.59,
          13.74,
          14.74,
          14.7
         ]
        },
        {
         "name": "NGX - TECHNOLOGY SERVICES",
         "type": "scatter",
         "visible": false,
         "x": [
          "Week 1",
          "Week 2",
          "Week 3",
          "Week 4"
         ],
         "y": [
          -5.13,
          -7.69,
          -6.69,
          -7.41
         ]
        },
        {
         "name": "NGX - OIL & GAS SERVICES",
         "type": "scatter",
         "visible": false,
         "x": [
          "Week 1",
          "Week 2",
          "Week 3",
          "Week 4"
         ],
         "y": [
          26.96,
          29.14,
          27.14,
          26.9
         ]
        },
        {
         "name": "NGX - TRANSPORTATION, AVIATION AND LOGISTICS",
         "type": "scatter",
         "visible": false,
         "x": [
          "Week 1",
          "Week 2",
          "Week 3",
          "Week 4"
         ],
         "y": [
          75.34,
          73.27,
          76.27,
          78.34
         ]
        },
        {
         "name": "NGX - PHARMACEUTICALS",
         "type": "scatter",
         "visible": false,
         "x": [
          "Week 1",
          "Week 2",
          "Week 3",
          "Week 4"
         ],
         "y": [
          11.68,
          25.71,
          32.71,
          42.78
         ]
        },
        {
         "name": "NGX - HOSPITALITY",
         "type": "scatter",
         "visible": false,
         "x": [
          "Week 1",
          "Week 2",
          "Week 3",
          "Week 4"
         ],
         "y": [
          111.68,
          102.92,
          109.92,
          126.28
         ]
        },
        {
         "name": "NGX - AGRICULTURAL SERVICES",
         "type": "scatter",
         "visible": false,
         "x": [
          "Week 1",
          "Week 2",
          "Week 3",
          "Week 4"
         ],
         "y": [
          31.99,
          30.05,
          33.05,
          46.52
         ]
        },
        {
         "name": "NGX - CONGLOMERATES",
         "type": "scatter",
         "visible": false,
         "x": [
          "Week 1",
          "Week 2",
          "Week 3",
          "Week 4"
         ],
         "y": [
          42.42,
          45.24,
          47.24,
          51.79
         ]
        },
        {
         "name": "NGX - REIT/REAL ESTATE",
         "type": "scatter",
         "visible": false,
         "x": [
          "Week 1",
          "Week 2",
          "Week 3",
          "Week 4"
         ],
         "y": [
          4.71,
          1.35,
          1.35,
          1.01
         ]
        }
       ],
       "layout": {
        "autosize": true,
        "template": {
         "data": {
          "bar": [
           {
            "error_x": {
             "color": "#2a3f5f"
            },
            "error_y": {
             "color": "#2a3f5f"
            },
            "marker": {
             "line": {
              "color": "#E5ECF6",
              "width": 0.5
             },
             "pattern": {
              "fillmode": "overlay",
              "size": 10,
              "solidity": 0.2
             }
            },
            "type": "bar"
           }
          ],
          "barpolar": [
           {
            "marker": {
             "line": {
              "color": "#E5ECF6",
              "width": 0.5
             },
             "pattern": {
              "fillmode": "overlay",
              "size": 10,
              "solidity": 0.2
             }
            },
            "type": "barpolar"
           }
          ],
          "carpet": [
           {
            "aaxis": {
             "endlinecolor": "#2a3f5f",
             "gridcolor": "white",
             "linecolor": "white",
             "minorgridcolor": "white",
             "startlinecolor": "#2a3f5f"
            },
            "baxis": {
             "endlinecolor": "#2a3f5f",
             "gridcolor": "white",
             "linecolor": "white",
             "minorgridcolor": "white",
             "startlinecolor": "#2a3f5f"
            },
            "type": "carpet"
           }
          ],
          "choropleth": [
           {
            "colorbar": {
             "outlinewidth": 0,
             "ticks": ""
            },
            "type": "choropleth"
           }
          ],
          "contour": [
           {
            "colorbar": {
             "outlinewidth": 0,
             "ticks": ""
            },
            "colorscale": [
             [
              0,
              "#0d0887"
             ],
             [
              0.1111111111111111,
              "#46039f"
             ],
             [
              0.2222222222222222,
              "#7201a8"
             ],
             [
              0.3333333333333333,
              "#9c179e"
             ],
             [
              0.4444444444444444,
              "#bd3786"
             ],
             [
              0.5555555555555556,
              "#d8576b"
             ],
             [
              0.6666666666666666,
              "#ed7953"
             ],
             [
              0.7777777777777778,
              "#fb9f3a"
             ],
             [
              0.8888888888888888,
              "#fdca26"
             ],
             [
              1,
              "#f0f921"
             ]
            ],
            "type": "contour"
           }
          ],
          "contourcarpet": [
           {
            "colorbar": {
             "outlinewidth": 0,
             "ticks": ""
            },
            "type": "contourcarpet"
           }
          ],
          "heatmap": [
           {
            "colorbar": {
             "outlinewidth": 0,
             "ticks": ""
            },
            "colorscale": [
             [
              0,
              "#0d0887"
             ],
             [
              0.1111111111111111,
              "#46039f"
             ],
             [
              0.2222222222222222,
              "#7201a8"
             ],
             [
              0.3333333333333333,
              "#9c179e"
             ],
             [
              0.4444444444444444,
              "#bd3786"
             ],
             [
              0.5555555555555556,
              "#d8576b"
             ],
             [
              0.6666666666666666,
              "#ed7953"
             ],
             [
              0.7777777777777778,
              "#fb9f3a"
             ],
             [
              0.8888888888888888,
              "#fdca26"
             ],
             [
              1,
              "#f0f921"
             ]
            ],
            "type": "heatmap"
           }
          ],
          "heatmapgl": [
           {
            "colorbar": {
             "outlinewidth": 0,
             "ticks": ""
            },
            "colorscale": [
             [
              0,
              "#0d0887"
             ],
             [
              0.1111111111111111,
              "#46039f"
             ],
             [
              0.2222222222222222,
              "#7201a8"
             ],
             [
              0.3333333333333333,
              "#9c179e"
             ],
             [
              0.4444444444444444,
              "#bd3786"
             ],
             [
              0.5555555555555556,
              "#d8576b"
             ],
             [
              0.6666666666666666,
              "#ed7953"
             ],
             [
              0.7777777777777778,
              "#fb9f3a"
             ],
             [
              0.8888888888888888,
              "#fdca26"
             ],
             [
              1,
              "#f0f921"
             ]
            ],
            "type": "heatmapgl"
           }
          ],
          "histogram": [
           {
            "marker": {
             "pattern": {
              "fillmode": "overlay",
              "size": 10,
              "solidity": 0.2
             }
            },
            "type": "histogram"
           }
          ],
          "histogram2d": [
           {
            "colorbar": {
             "outlinewidth": 0,
             "ticks": ""
            },
            "colorscale": [
             [
              0,
              "#0d0887"
             ],
             [
              0.1111111111111111,
              "#46039f"
             ],
             [
              0.2222222222222222,
              "#7201a8"
             ],
             [
              0.3333333333333333,
              "#9c179e"
             ],
             [
              0.4444444444444444,
              "#bd3786"
             ],
             [
              0.5555555555555556,
              "#d8576b"
             ],
             [
              0.6666666666666666,
              "#ed7953"
             ],
             [
              0.7777777777777778,
              "#fb9f3a"
             ],
             [
              0.8888888888888888,
              "#fdca26"
             ],
             [
              1,
              "#f0f921"
             ]
            ],
            "type": "histogram2d"
           }
          ],
          "histogram2dcontour": [
           {
            "colorbar": {
             "outlinewidth": 0,
             "ticks": ""
            },
            "colorscale": [
             [
              0,
              "#0d0887"
             ],
             [
              0.1111111111111111,
              "#46039f"
             ],
             [
              0.2222222222222222,
              "#7201a8"
             ],
             [
              0.3333333333333333,
              "#9c179e"
             ],
             [
              0.4444444444444444,
              "#bd3786"
             ],
             [
              0.5555555555555556,
              "#d8576b"
             ],
             [
              0.6666666666666666,
              "#ed7953"
             ],
             [
              0.7777777777777778,
              "#fb9f3a"
             ],
             [
              0.8888888888888888,
              "#fdca26"
             ],
             [
              1,
              "#f0f921"
             ]
            ],
            "type": "histogram2dcontour"
           }
          ],
          "mesh3d": [
           {
            "colorbar": {
             "outlinewidth": 0,
             "ticks": ""
            },
            "type": "mesh3d"
           }
          ],
          "parcoords": [
           {
            "line": {
             "colorbar": {
              "outlinewidth": 0,
              "ticks": ""
             }
            },
            "type": "parcoords"
           }
          ],
          "pie": [
           {
            "automargin": true,
            "type": "pie"
           }
          ],
          "scatter": [
           {
            "fillpattern": {
             "fillmode": "overlay",
             "size": 10,
             "solidity": 0.2
            },
            "type": "scatter"
           }
          ],
          "scatter3d": [
           {
            "line": {
             "colorbar": {
              "outlinewidth": 0,
              "ticks": ""
             }
            },
            "marker": {
             "colorbar": {
              "outlinewidth": 0,
              "ticks": ""
             }
            },
            "type": "scatter3d"
           }
          ],
          "scattercarpet": [
           {
            "marker": {
             "colorbar": {
              "outlinewidth": 0,
              "ticks": ""
             }
            },
            "type": "scattercarpet"
           }
          ],
          "scattergeo": [
           {
            "marker": {
             "colorbar": {
              "outlinewidth": 0,
              "ticks": ""
             }
            },
            "type": "scattergeo"
           }
          ],
          "scattergl": [
           {
            "marker": {
             "colorbar": {
              "outlinewidth": 0,
              "ticks": ""
             }
            },
            "type": "scattergl"
           }
          ],
          "scattermapbox": [
           {
            "marker": {
             "colorbar": {
              "outlinewidth": 0,
              "ticks": ""
             }
            },
            "type": "scattermapbox"
           }
          ],
          "scatterpolar": [
           {
            "marker": {
             "colorbar": {
              "outlinewidth": 0,
              "ticks": ""
             }
            },
            "type": "scatterpolar"
           }
          ],
          "scatterpolargl": [
           {
            "marker": {
             "colorbar": {
              "outlinewidth": 0,
              "ticks": ""
             }
            },
            "type": "scatterpolargl"
           }
          ],
          "scatterternary": [
           {
            "marker": {
             "colorbar": {
              "outlinewidth": 0,
              "ticks": ""
             }
            },
            "type": "scatterternary"
           }
          ],
          "surface": [
           {
            "colorbar": {
             "outlinewidth": 0,
             "ticks": ""
            },
            "colorscale": [
             [
              0,
              "#0d0887"
             ],
             [
              0.1111111111111111,
              "#46039f"
             ],
             [
              0.2222222222222222,
              "#7201a8"
             ],
             [
              0.3333333333333333,
              "#9c179e"
             ],
             [
              0.4444444444444444,
              "#bd3786"
             ],
             [
              0.5555555555555556,
              "#d8576b"
             ],
             [
              0.6666666666666666,
              "#ed7953"
             ],
             [
              0.7777777777777778,
              "#fb9f3a"
             ],
             [
              0.8888888888888888,
              "#fdca26"
             ],
             [
              1,
              "#f0f921"
             ]
            ],
            "type": "surface"
           }
          ],
          "table": [
           {
            "cells": {
             "fill": {
              "color": "#EBF0F8"
             },
             "line": {
              "color": "white"
             }
            },
            "header": {
             "fill": {
              "color": "#C8D4E3"
             },
             "line": {
              "color": "white"
             }
            },
            "type": "table"
           }
          ]
         },
         "layout": {
          "annotationdefaults": {
           "arrowcolor": "#2a3f5f",
           "arrowhead": 0,
           "arrowwidth": 1
          },
          "autotypenumbers": "strict",
          "coloraxis": {
           "colorbar": {
            "outlinewidth": 0,
            "ticks": ""
           }
          },
          "colorscale": {
           "diverging": [
            [
             0,
             "#8e0152"
            ],
            [
             0.1,
             "#c51b7d"
            ],
            [
             0.2,
             "#de77ae"
            ],
            [
             0.3,
             "#f1b6da"
            ],
            [
             0.4,
             "#fde0ef"
            ],
            [
             0.5,
             "#f7f7f7"
            ],
            [
             0.6,
             "#e6f5d0"
            ],
            [
             0.7,
             "#b8e186"
            ],
            [
             0.8,
             "#7fbc41"
            ],
            [
             0.9,
             "#4d9221"
            ],
            [
             1,
             "#276419"
            ]
           ],
           "sequential": [
            [
             0,
             "#0d0887"
            ],
            [
             0.1111111111111111,
             "#46039f"
            ],
            [
             0.2222222222222222,
             "#7201a8"
            ],
            [
             0.3333333333333333,
             "#9c179e"
            ],
            [
             0.4444444444444444,
             "#bd3786"
            ],
            [
             0.5555555555555556,
             "#d8576b"
            ],
            [
             0.6666666666666666,
             "#ed7953"
            ],
            [
             0.7777777777777778,
             "#fb9f3a"
            ],
            [
             0.8888888888888888,
             "#fdca26"
            ],
            [
             1,
             "#f0f921"
            ]
           ],
           "sequentialminus": [
            [
             0,
             "#0d0887"
            ],
            [
             0.1111111111111111,
             "#46039f"
            ],
            [
             0.2222222222222222,
             "#7201a8"
            ],
            [
             0.3333333333333333,
             "#9c179e"
            ],
            [
             0.4444444444444444,
             "#bd3786"
            ],
            [
             0.5555555555555556,
             "#d8576b"
            ],
            [
             0.6666666666666666,
             "#ed7953"
            ],
            [
             0.7777777777777778,
             "#fb9f3a"
            ],
            [
             0.8888888888888888,
             "#fdca26"
            ],
            [
             1,
             "#f0f921"
            ]
           ]
          },
          "colorway": [
           "#636efa",
           "#EF553B",
           "#00cc96",
           "#ab63fa",
           "#FFA15A",
           "#19d3f3",
           "#FF6692",
           "#B6E880",
           "#FF97FF",
           "#FECB52"
          ],
          "font": {
           "color": "#2a3f5f"
          },
          "geo": {
           "bgcolor": "white",
           "lakecolor": "white",
           "landcolor": "#E5ECF6",
           "showlakes": true,
           "showland": true,
           "subunitcolor": "white"
          },
          "hoverlabel": {
           "align": "left"
          },
          "hovermode": "closest",
          "mapbox": {
           "style": "light"
          },
          "paper_bgcolor": "white",
          "plot_bgcolor": "#E5ECF6",
          "polar": {
           "angularaxis": {
            "gridcolor": "white",
            "linecolor": "white",
            "ticks": ""
           },
           "bgcolor": "#E5ECF6",
           "radialaxis": {
            "gridcolor": "white",
            "linecolor": "white",
            "ticks": ""
           }
          },
          "scene": {
           "xaxis": {
            "backgroundcolor": "#E5ECF6",
            "gridcolor": "white",
            "gridwidth": 2,
            "linecolor": "white",
            "showbackground": true,
            "ticks": "",
            "zerolinecolor": "white"
           },
           "yaxis": {
            "backgroundcolor": "#E5ECF6",
            "gridcolor": "white",
            "gridwidth": 2,
            "linecolor": "white",
            "showbackground": true,
            "ticks": "",
            "zerolinecolor": "white"
           },
           "zaxis": {
            "backgroundcolor": "#E5ECF6",
            "gridcolor": "white",
            "gridwidth": 2,
            "linecolor": "white",
            "showbackground": true,
            "ticks": "",
            "zerolinecolor": "white"
           }
          },
          "shapedefaults": {
           "line": {
            "color": "#2a3f5f"
           }
          },
          "ternary": {
           "aaxis": {
            "gridcolor": "white",
            "linecolor": "white",
            "ticks": ""
           },
           "baxis": {
            "gridcolor": "white",
            "linecolor": "white",
            "ticks": ""
           },
           "bgcolor": "#E5ECF6",
           "caxis": {
            "gridcolor": "white",
            "linecolor": "white",
            "ticks": ""
           }
          },
          "title": {
           "x": 0.05
          },
          "xaxis": {
           "automargin": true,
           "gridcolor": "white",
           "linecolor": "white",
           "ticks": "",
           "title": {
            "standoff": 15
           },
           "zerolinecolor": "white",
           "zerolinewidth": 2
          },
          "yaxis": {
           "automargin": true,
           "gridcolor": "white",
           "linecolor": "white",
           "ticks": "",
           "title": {
            "standoff": 15
           },
           "zerolinecolor": "white",
           "zerolinewidth": 2
          }
         }
        },
        "title": {
         "text": "Weekly Performance: NGX - BANKING SERVICES"
        },
        "updatemenus": [
         {
          "active": 0,
          "buttons": [
           {
            "args": [
             {
              "visible": [
               true,
               false,
               false,
               false,
               false,
               false,
               false,
               false,
               false,
               false,
               false,
               false,
               false,
               false,
               false,
               false
              ]
             },
             {
              "title": "Weekly Performance: NGX - BANKING SERVICES"
             }
            ],
            "label": "NGX - BANKING SERVICES",
            "method": "update"
           },
           {
            "args": [
             {
              "visible": [
               false,
               true,
               false,
               false,
               false,
               false,
               false,
               false,
               false,
               false,
               false,
               false,
               false,
               false,
               false,
               false
              ]
             },
             {
              "title": "Weekly Performance: NGX - FINANCIAL SERVICES"
             }
            ],
            "label": "NGX - FINANCIAL SERVICES",
            "method": "update"
           },
           {
            "args": [
             {
              "visible": [
               false,
               false,
               true,
               false,
               false,
               false,
               false,
               false,
               false,
               false,
               false,
               false,
               false,
               false,
               false,
               false
              ]
             },
             {
              "title": "Weekly Performance: NGX - BREWERIES"
             }
            ],
            "label": "NGX - BREWERIES",
            "method": "update"
           },
           {
            "args": [
             {
              "visible": [
               false,
               false,
               false,
               true,
               false,
               false,
               false,
               false,
               false,
               false,
               false,
               false,
               false,
               false,
               false,
               false
              ]
             },
             {
              "title": "Weekly Performance: NGX - TELECOMMUNICATION"
             }
            ],
            "label": "NGX - TELECOMMUNICATION",
            "method": "update"
           },
           {
            "args": [
             {
              "visible": [
               false,
               false,
               false,
               false,
               true,
               false,
               false,
               false,
               false,
               false,
               false,
               false,
               false,
               false,
               false,
               false
              ]
             },
             {
              "title": "Weekly Performance: NGX - INSURANCE"
             }
            ],
            "label": "NGX - INSURANCE",
            "method": "update"
           },
           {
            "args": [
             {
              "visible": [
               false,
               false,
               false,
               false,
               false,
               true,
               false,
               false,
               false,
               false,
               false,
               false,
               false,
               false,
               false,
               false
              ]
             },
             {
              "title": "Weekly Performance: NGX - PACKAGED FOODS"
             }
            ],
            "label": "NGX - PACKAGED FOODS",
            "method": "update"
           },
           {
            "args": [
             {
              "visible": [
               false,
               false,
               false,
               false,
               false,
               false,
               true,
               false,
               false,
               false,
               false,
               false,
               false,
               false,
               false,
               false
              ]
             },
             {
              "title": "Weekly Performance: NGX - INDUSTRIALS"
             }
            ],
            "label": "NGX - INDUSTRIALS",
            "method": "update"
           },
           {
            "args": [
             {
              "visible": [
               false,
               false,
               false,
               false,
               false,
               false,
               false,
               true,
               false,
               false,
               false,
               false,
               false,
               false,
               false,
               false
              ]
             },
             {
              "title": "Weekly Performance: NGX - CONSTRUCTION"
             }
            ],
            "label": "NGX - CONSTRUCTION",
            "method": "update"
           },
           {
            "args": [
             {
              "visible": [
               false,
               false,
               false,
               false,
               false,
               false,
               false,
               false,
               true,
               false,
               false,
               false,
               false,
               false,
               false,
               false
              ]
             },
             {
              "title": "Weekly Performance: NGX - TECHNOLOGY SERVICES"
             }
            ],
            "label": "NGX - TECHNOLOGY SERVICES",
            "method": "update"
           },
           {
            "args": [
             {
              "visible": [
               false,
               false,
               false,
               false,
               false,
               false,
               false,
               false,
               false,
               true,
               false,
               false,
               false,
               false,
               false,
               false
              ]
             },
             {
              "title": "Weekly Performance: NGX - OIL & GAS SERVICES"
             }
            ],
            "label": "NGX - OIL & GAS SERVICES",
            "method": "update"
           },
           {
            "args": [
             {
              "visible": [
               false,
               false,
               false,
               false,
               false,
               false,
               false,
               false,
               false,
               false,
               true,
               false,
               false,
               false,
               false,
               false
              ]
             },
             {
              "title": "Weekly Performance: NGX - TRANSPORTATION, AVIATION AND LOGISTICS"
             }
            ],
            "label": "NGX - TRANSPORTATION, AVIATION AND LOGISTICS",
            "method": "update"
           },
           {
            "args": [
             {
              "visible": [
               false,
               false,
               false,
               false,
               false,
               false,
               false,
               false,
               false,
               false,
               false,
               true,
               false,
               false,
               false,
               false
              ]
             },
             {
              "title": "Weekly Performance: NGX - PHARMACEUTICALS"
             }
            ],
            "label": "NGX - PHARMACEUTICALS",
            "method": "update"
           },
           {
            "args": [
             {
              "visible": [
               false,
               false,
               false,
               false,
               false,
               false,
               false,
               false,
               false,
               false,
               false,
               false,
               true,
               false,
               false,
               false
              ]
             },
             {
              "title": "Weekly Performance: NGX - HOSPITALITY"
             }
            ],
            "label": "NGX - HOSPITALITY",
            "method": "update"
           },
           {
            "args": [
             {
              "visible": [
               false,
               false,
               false,
               false,
               false,
               false,
               false,
               false,
               false,
               false,
               false,
               false,
               false,
               true,
               false,
               false
              ]
             },
             {
              "title": "Weekly Performance: NGX - AGRICULTURAL SERVICES"
             }
            ],
            "label": "NGX - AGRICULTURAL SERVICES",
            "method": "update"
           },
           {
            "args": [
             {
              "visible": [
               false,
               false,
               false,
               false,
               false,
               false,
               false,
               false,
               false,
               false,
               false,
               false,
               false,
               false,
               true,
               false
              ]
             },
             {
              "title": "Weekly Performance: NGX - CONGLOMERATES"
             }
            ],
            "label": "NGX - CONGLOMERATES",
            "method": "update"
           },
           {
            "args": [
             {
              "visible": [
               false,
               false,
               false,
               false,
               false,
               false,
               false,
               false,
               false,
               false,
               false,
               false,
               false,
               false,
               false,
               true
              ]
             },
             {
              "title": "Weekly Performance: NGX - REIT/REAL ESTATE"
             }
            ],
            "label": "NGX - REIT/REAL ESTATE",
            "method": "update"
           }
          ],
          "x": 1.15,
          "y": 1
         }
        ],
        "xaxis": {
         "autorange": true,
         "range": [
          -0.18261868300153142,
          3.1826186830015315
         ],
         "title": {
          "text": "Week"
         },
         "type": "category"
        },
        "yaxis": {
         "autorange": true,
         "range": [
          12.547281553398058,
          15.832718446601941
         ],
         "title": {
          "text": "Performance (%)"
         },
         "type": "linear"
        }
       }
      },
      "image/png": "[encoded data removed]",
      "text/html": [
       "<div>                            <div id=\"5421a1a1-f88d-45f9-aada-2bdd34293f1f\" class=\"plotly-graph-div\" style=\"height:525px; width:100%;\"></div>            <script type=\"text/javascript\">                require([\"plotly\"], function(Plotly) {                    window.PLOTLYENV=window.PLOTLYENV || {};                                    if (document.getElementById(\"5421a1a1-f88d-45f9-aada-2bdd34293f1f\")) {                    Plotly.newPlot(                        \"5421a1a1-f88d-45f9-aada-2bdd34293f1f\",                        [{\"name\":\"NGX - BANKING SERVICES\",\"visible\":true,\"x\":[\"Week 1\",\"Week 2\",\"Week 3\",\"Week 4\"],\"y\":[14.06,15.6,14.83,12.78],\"type\":\"scatter\"},{\"name\":\"NGX - FINANCIAL SERVICES\",\"visible\":false,\"x\":[\"Week 1\",\"Week 2\",\"Week 3\",\"Week 4\"],\"y\":[42.3,41.54,42.54,45.73],\"type\":\"scatter\"},{\"name\":\"NGX - BREWERIES\",\"visible\":false,\"x\":[\"Week 1\",\"Week 2\",\"Week 3\",\"Week 4\"],\"y\":[49.45,60.02,60.6,63.68],\"type\":\"scatter\"},{\"name\":\"NGX - TELECOMMUNICATION\",\"visible\":false,\"x\":[\"Week 1\",\"Week 2\",\"Week 3\",\"Week 4\"],\"y\":[19.7,36.41,37.41,52.09],\"type\":\"scatter\"},{\"name\":\"NGX - INSURANCE\",\"visible\":false,\"x\":[\"Week 1\",\"Week 2\",\"Week 3\",\"Week 4\"],\"y\":[18.31,19.84,20.84,26.69],\"type\":\"scatter\"},{\"name\":\"NGX - PACKAGED FOODS\",\"visible\":false,\"x\":[\"Week 1\",\"Week 2\",\"Week 3\",\"Week 4\"],\"y\":[35.1,36.52,35.14,33.59],\"type\":\"scatter\"},{\"name\":\"NGX - INDUSTRIALS\",\"visible\":false,\"x\":[\"Week 1\",\"Week 2\",\"Week 3\",\"Week 4\"],\"y\":[49.48,51.21,52.93,56.34],\"type\":\"scatter\"},{\"name\":\"NGX - CONSTRUCTION\",\"visible\":false,\"x\":[\"Week 1\",\"Week 2\",\"Week 3\",\"Week 4\"],\"y\":[12.59,13.74,14.74,14.7],\"type\":\"scatter\"},{\"name\":\"NGX - TECHNOLOGY SERVICES\",\"visible\":false,\"x\":[\"Week 1\",\"Week 2\",\"Week 3\",\"Week 4\"],\"y\":[-5.13,-7.69,-6.69,-7.41],\"type\":\"scatter\"},{\"name\":\"NGX - OIL & GAS SERVICES\",\"visible\":false,\"x\":[\"Week 1\",\"Week 2\",\"Week 3\",\"Week 4\"],\"y\":[26.96,29.14,27.14,26.9],\"type\":\"scatter\"},{\"name\":\"NGX - TRANSPORTATION, AVIATION AND LOGISTICS\",\"visible\":false,\"x\":[\"Week 1\",\"Week 2\",\"Week 3\",\"Week 4\"],\"y\":[75.34,73.27,76.27,78.34],\"type\":\"scatter\"},{\"name\":\"NGX - PHARMACEUTICALS\",\"visible\":false,\"x\":[\"Week 1\",\"Week 2\",\"Week 3\",\"Week 4\"],\"y\":[11.68,25.71,32.71,42.78],\"type\":\"scatter\"},{\"name\":\"NGX - HOSPITALITY\",\"visible\":false,\"x\":[\"Week 1\",\"Week 2\",\"Week 3\",\"Week 4\"],\"y\":[111.68,102.92,109.92,126.28],\"type\":\"scatter\"},{\"name\":\"NGX - AGRICULTURAL SERVICES\",\"visible\":false,\"x\":[\"Week 1\",\"Week 2\",\"Week 3\",\"Week 4\"],\"y\":[31.99,30.05,33.05,46.52],\"type\":\"scatter\"},{\"name\":\"NGX - CONGLOMERATES\",\"visible\":false,\"x\":[\"Week 1\",\"Week 2\",\"Week 3\",\"Week 4\"],\"y\":[42.42,45.24,47.24,51.79],\"type\":\"scatter\"},{\"name\":\"NGX - REIT\\u002fREAL ESTATE\",\"visible\":false,\"x\":[\"Week 1\",\"Week 2\",\"Week 3\",\"Week 4\"],\"y\":[4.71,1.35,1.35,1.01],\"type\":\"scatter\"}],                        {\"template\":{\"data\":{\"histogram2dcontour\":[{\"type\":\"histogram2dcontour\",\"colorbar\":{\"outlinewidth\":0,\"ticks\":\"\"},\"colorscale\":[[0.0,\"#0d0887\"],[0.1111111111111111,\"#46039f\"],[0.2222222222222222,\"#7201a8\"],[0.3333333333333333,\"#9c179e\"],[0.4444444444444444,\"#bd3786\"],[0.5555555555555556,\"#d8576b\"],[0.6666666666666666,\"#ed7953\"],[0.7777777777777778,\"#fb9f3a\"],[0.8888888888888888,\"#fdca26\"],[1.0,\"#f0f921\"]]}],\"choropleth\":[{\"type\":\"choropleth\",\"colorbar\":{\"outlinewidth\":0,\"ticks\":\"\"}}],\"histogram2d\":[{\"type\":\"histogram2d\",\"colorbar\":{\"outlinewidth\":0,\"ticks\":\"\"},\"colorscale\":[[0.0,\"#0d0887\"],[0.1111111111111111,\"#46039f\"],[0.2222222222222222,\"#7201a8\"],[0.3333333333333333,\"#9c179e\"],[0.4444444444444444,\"#bd3786\"],[0.5555555555555556,\"#d8576b\"],[0.6666666666666666,\"#ed7953\"],[0.7777777777777778,\"#fb9f3a\"],[0.8888888888888888,\"#fdca26\"],[1.0,\"#f0f921\"]]}],\"heatmap\":[{\"type\":\"heatmap\",\"colorbar\":{\"outlinewidth\":0,\"ticks\":\"\"},\"colorscale\":[[0.0,\"#0d0887\"],[0.1111111111111111,\"#46039f\"],[0.2222222222222222,\"#7201a8\"],[0.3333333333333333,\"#9c179e\"],[0.4444444444444444,\"#bd3786\"],[0.5555555555555556,\"#d8576b\"],[0.6666666666666666,\"#ed7953\"],[0.7777777777777778,\"#fb9f3a\"],[0.8888888888888888,\"#fdca26\"],[1.0,\"#f0f921\"]]}],\"heatmapgl\":[{\"type\":\"heatmapgl\",\"colorbar\":{\"outlinewidth\":0,\"ticks\":\"\"},\"colorscale\":[[0.0,\"#0d0887\"],[0.1111111111111111,\"#46039f\"],[0.2222222222222222,\"#7201a8\"],[0.3333333333333333,\"#9c179e\"],[0.4444444444444444,\"#bd3786\"],[0.5555555555555556,\"#d8576b\"],[0.6666666666666666,\"#ed7953\"],[0.7777777777777778,\"#fb9f3a\"],[0.8888888888888888,\"#fdca26\"],[1.0,\"#f0f921\"]]}],\"contourcarpet\":[{\"type\":\"contourcarpet\",\"colorbar\":{\"outlinewidth\":0,\"ticks\":\"\"}}],\"contour\":[{\"type\":\"contour\",\"colorbar\":{\"outlinewidth\":0,\"ticks\":\"\"},\"colorscale\":[[0.0,\"#0d0887\"],[0.1111111111111111,\"#46039f\"],[0.2222222222222222,\"#7201a8\"],[0.3333333333333333,\"#9c179e\"],[0.4444444444444444,\"#bd3786\"],[0.5555555555555556,\"#d8576b\"],[0.6666666666666666,\"#ed7953\"],[0.7777777777777778,\"#fb9f3a\"],[0.8888888888888888,\"#fdca26\"],[1.0,\"#f0f921\"]]}],\"surface\":[{\"type\":\"surface\",\"colorbar\":{\"outlinewidth\":0,\"ticks\":\"\"},\"colorscale\":[[0.0,\"#0d0887\"],[0.1111111111111111,\"#46039f\"],[0.2222222222222222,\"#7201a8\"],[0.3333333333333333,\"#9c179e\"],[0.4444444444444444,\"#bd3786\"],[0.5555555555555556,\"#d8576b\"],[0.6666666666666666,\"#ed7953\"],[0.7777777777777778,\"#fb9f3a\"],[0.8888888888888888,\"#fdca26\"],[1.0,\"#f0f921\"]]}],\"mesh3d\":[{\"type\":\"mesh3d\",\"colorbar\":{\"outlinewidth\":0,\"ticks\":\"\"}}],\"scatter\":[{\"fillpattern\":{\"fillmode\":\"overlay\",\"size\":10,\"solidity\":0.2},\"type\":\"scatter\"}],\"parcoords\":[{\"type\":\"parcoords\",\"line\":{\"colorbar\":{\"outlinewidth\":0,\"ticks\":\"\"}}}],\"scatterpolargl\":[{\"type\":\"scatterpolargl\",\"marker\":{\"colorbar\":{\"outlinewidth\":0,\"ticks\":\"\"}}}],\"bar\":[{\"error_x\":{\"color\":\"#2a3f5f\"},\"error_y\":{\"color\":\"#2a3f5f\"},\"marker\":{\"line\":{\"color\":\"#E5ECF6\",\"width\":0.5},\"pattern\":{\"fillmode\":\"overlay\",\"size\":10,\"solidity\":0.2}},\"type\":\"bar\"}],\"scattergeo\":[{\"type\":\"scattergeo\",\"marker\":{\"colorbar\":{\"outlinewidth\":0,\"ticks\":\"\"}}}],\"scatterpolar\":[{\"type\":\"scatterpolar\",\"marker\":{\"colorbar\":{\"outlinewidth\":0,\"ticks\":\"\"}}}],\"histogram\":[{\"marker\":{\"pattern\":{\"fillmode\":\"overlay\",\"size\":10,\"solidity\":0.2}},\"type\":\"histogram\"}],\"scattergl\":[{\"type\":\"scattergl\",\"marker\":{\"colorbar\":{\"outlinewidth\":0,\"ticks\":\"\"}}}],\"scatter3d\":[{\"type\":\"scatter3d\",\"line\":{\"colorbar\":{\"outlinewidth\":0,\"ticks\":\"\"}},\"marker\":{\"colorbar\":{\"outlinewidth\":0,\"ticks\":\"\"}}}],\"scattermapbox\":[{\"type\":\"scattermapbox\",\"marker\":{\"colorbar\":{\"outlinewidth\":0,\"ticks\":\"\"}}}],\"scatterternary\":[{\"type\":\"scatterternary\",\"marker\":{\"colorbar\":{\"outlinewidth\":0,\"ticks\":\"\"}}}],\"scattercarpet\":[{\"type\":\"scattercarpet\",\"marker\":{\"colorbar\":{\"outlinewidth\":0,\"ticks\":\"\"}}}],\"carpet\":[{\"aaxis\":{\"endlinecolor\":\"#2a3f5f\",\"gridcolor\":\"white\",\"linecolor\":\"white\",\"minorgridcolor\":\"white\",\"startlinecolor\":\"#2a3f5f\"},\"baxis\":{\"endlinecolor\":\"#2a3f5f\",\"gridcolor\":\"white\",\"linecolor\":\"white\",\"minorgridcolor\":\"white\",\"startlinecolor\":\"#2a3f5f\"},\"type\":\"carpet\"}],\"table\":[{\"cells\":{\"fill\":{\"color\":\"#EBF0F8\"},\"line\":{\"color\":\"white\"}},\"header\":{\"fill\":{\"color\":\"#C8D4E3\"},\"line\":{\"color\":\"white\"}},\"type\":\"table\"}],\"barpolar\":[{\"marker\":{\"line\":{\"color\":\"#E5ECF6\",\"width\":0.5},\"pattern\":{\"fillmode\":\"overlay\",\"size\":10,\"solidity\":0.2}},\"type\":\"barpolar\"}],\"pie\":[{\"automargin\":true,\"type\":\"pie\"}]},\"layout\":{\"autotypenumbers\":\"strict\",\"colorway\":[\"#636efa\",\"#EF553B\",\"#00cc96\",\"#ab63fa\",\"#FFA15A\",\"#19d3f3\",\"#FF6692\",\"#B6E880\",\"#FF97FF\",\"#FECB52\"],\"font\":{\"color\":\"#2a3f5f\"},\"hovermode\":\"closest\",\"hoverlabel\":{\"align\":\"left\"},\"paper_bgcolor\":\"white\",\"plot_bgcolor\":\"#E5ECF6\",\"polar\":{\"bgcolor\":\"#E5ECF6\",\"angularaxis\":{\"gridcolor\":\"white\",\"linecolor\":\"white\",\"ticks\":\"\"},\"radialaxis\":{\"gridcolor\":\"white\",\"linecolor\":\"white\",\"ticks\":\"\"}},\"ternary\":{\"bgcolor\":\"#E5ECF6\",\"aaxis\":{\"gridcolor\":\"white\",\"linecolor\":\"white\",\"ticks\":\"\"},\"baxis\":{\"gridcolor\":\"white\",\"linecolor\":\"white\",\"ticks\":\"\"},\"caxis\":{\"gridcolor\":\"white\",\"linecolor\":\"white\",\"ticks\":\"\"}},\"coloraxis\":{\"colorbar\":{\"outlinewidth\":0,\"ticks\":\"\"}},\"colorscale\":{\"sequential\":[[0.0,\"#0d0887\"],[0.1111111111111111,\"#46039f\"],[0.2222222222222222,\"#7201a8\"],[0.3333333333333333,\"#9c179e\"],[0.4444444444444444,\"#bd3786\"],[0.5555555555555556,\"#d8576b\"],[0.6666666666666666,\"#ed7953\"],[0.7777777777777778,\"#fb9f3a\"],[0.8888888888888888,\"#fdca26\"],[1.0,\"#f0f921\"]],\"sequentialminus\":[[0.0,\"#0d0887\"],[0.1111111111111111,\"#46039f\"],[0.2222222222222222,\"#7201a8\"],[0.3333333333333333,\"#9c179e\"],[0.4444444444444444,\"#bd3786\"],[0.5555555555555556,\"#d8576b\"],[0.6666666666666666,\"#ed7953\"],[0.7777777777777778,\"#fb9f3a\"],[0.8888888888888888,\"#fdca26\"],[1.0,\"#f0f921\"]],\"diverging\":[[0,\"#8e0152\"],[0.1,\"#c51b7d\"],[0.2,\"#de77ae\"],[0.3,\"#f1b6da\"],[0.4,\"#fde0ef\"],[0.5,\"#f7f7f7\"],[0.6,\"#e6f5d0\"],[0.7,\"#b8e186\"],[0.8,\"#7fbc41\"],[0.9,\"#4d9221\"],[1,\"#276419\"]]},\"xaxis\":{\"gridcolor\":\"white\",\"linecolor\":\"white\",\"ticks\":\"\",\"title\":{\"standoff\":15},\"zerolinecolor\":\"white\",\"automargin\":true,\"zerolinewidth\":2},\"yaxis\":{\"gridcolor\":\"white\",\"linecolor\":\"white\",\"ticks\":\"\",\"title\":{\"standoff\":15},\"zerolinecolor\":\"white\",\"automargin\":true,\"zerolinewidth\":2},\"scene\":{\"xaxis\":{\"backgroundcolor\":\"#E5ECF6\",\"gridcolor\":\"white\",\"linecolor\":\"white\",\"showbackground\":true,\"ticks\":\"\",\"zerolinecolor\":\"white\",\"gridwidth\":2},\"yaxis\":{\"backgroundcolor\":\"#E5ECF6\",\"gridcolor\":\"white\",\"linecolor\":\"white\",\"showbackground\":true,\"ticks\":\"\",\"zerolinecolor\":\"white\",\"gridwidth\":2},\"zaxis\":{\"backgroundcolor\":\"#E5ECF6\",\"gridcolor\":\"white\",\"linecolor\":\"white\",\"showbackground\":true,\"ticks\":\"\",\"zerolinecolor\":\"white\",\"gridwidth\":2}},\"shapedefaults\":{\"line\":{\"color\":\"#2a3f5f\"}},\"annotationdefaults\":{\"arrowcolor\":\"#2a3f5f\",\"arrowhead\":0,\"arrowwidth\":1},\"geo\":{\"bgcolor\":\"white\",\"landcolor\":\"#E5ECF6\",\"subunitcolor\":\"white\",\"showland\":true,\"showlakes\":true,\"lakecolor\":\"white\"},\"title\":{\"x\":0.05},\"mapbox\":{\"style\":\"light\"}}},\"updatemenus\":[{\"active\":0,\"buttons\":[{\"args\":[{\"visible\":[true,false,false,false,false,false,false,false,false,false,false,false,false,false,false,false]},{\"title\":\"Weekly Performance: NGX - BANKING SERVICES\"}],\"label\":\"NGX - BANKING SERVICES\",\"method\":\"update\"},{\"args\":[{\"visible\":[false,true,false,false,false,false,false,false,false,false,false,false,false,false,false,false]},{\"title\":\"Weekly Performance: NGX - FINANCIAL SERVICES\"}],\"label\":\"NGX - FINANCIAL SERVICES\",\"method\":\"update\"},{\"args\":[{\"visible\":[false,false,true,false,false,false,false,false,false,false,false,false,false,false,false,false]},{\"title\":\"Weekly Performance: NGX - BREWERIES\"}],\"label\":\"NGX - BREWERIES\",\"method\":\"update\"},{\"args\":[{\"visible\":[false,false,false,true,false,false,false,false,false,false,false,false,false,false,false,false]},{\"title\":\"Weekly Performance: NGX - TELECOMMUNICATION\"}],\"label\":\"NGX - TELECOMMUNICATION\",\"method\":\"update\"},{\"args\":[{\"visible\":[false,false,false,false,true,false,false,false,false,false,false,false,false,false,false,false]},{\"title\":\"Weekly Performance: NGX - INSURANCE\"}],\"label\":\"NGX - INSURANCE\",\"method\":\"update\"},{\"args\":[{\"visible\":[false,false,false,false,false,true,false,false,false,false,false,false,false,false,false,false]},{\"title\":\"Weekly Performance: NGX - PACKAGED FOODS\"}],\"label\":\"NGX - PACKAGED FOODS\",\"method\":\"update\"},{\"args\":[{\"visible\":[false,false,false,false,false,false,true,false,false,false,false,false,false,false,false,false]},{\"title\":\"Weekly Performance: NGX - INDUSTRIALS\"}],\"label\":\"NGX - INDUSTRIALS\",\"method\":\"update\"},{\"args\":[{\"visible\":[false,false,false,false,false,false,false,true,false,false,false,false,false,false,false,false]},{\"title\":\"Weekly Performance: NGX - CONSTRUCTION\"}],\"label\":\"NGX - CONSTRUCTION\",\"method\":\"update\"},{\"args\":[{\"visible\":[false,false,false,false,false,false,false,false,true,false,false,false,false,false,false,false]},{\"title\":\"Weekly Performance: NGX - TECHNOLOGY SERVICES\"}],\"label\":\"NGX - TECHNOLOGY SERVICES\",\"method\":\"update\"},{\"args\":[{\"visible\":[false,false,false,false,false,false,false,false,false,true,false,false,false,false,false,false]},{\"title\":\"Weekly Performance: NGX - OIL & GAS SERVICES\"}],\"label\":\"NGX - OIL & GAS SERVICES\",\"method\":\"update\"},{\"args\":[{\"visible\":[false,false,false,false,false,false,false,false,false,false,true,false,false,false,false,false]},{\"title\":\"Weekly Performance: NGX - TRANSPORTATION, AVIATION AND LOGISTICS\"}],\"label\":\"NGX - TRANSPORTATION, AVIATION AND LOGISTICS\",\"method\":\"update\"},{\"args\":[{\"visible\":[false,false,false,false,false,false,false,false,false,false,false,true,false,false,false,false]},{\"title\":\"Weekly Performance: NGX - PHARMACEUTICALS\"}],\"label\":\"NGX - PHARMACEUTICALS\",\"method\":\"update\"},{\"args\":[{\"visible\":[false,false,false,false,false,false,false,false,false,false,false,false,true,false,false,false]},{\"title\":\"Weekly Performance: NGX - HOSPITALITY\"}],\"label\":\"NGX - HOSPITALITY\",\"method\":\"update\"},{\"args\":[{\"visible\":[false,false,false,false,false,false,false,false,false,false,false,false,false,true,false,false]},{\"title\":\"Weekly Performance: NGX - AGRICULTURAL SERVICES\"}],\"label\":\"NGX - AGRICULTURAL SERVICES\",\"method\":\"update\"},{\"args\":[{\"visible\":[false,false,false,false,false,false,false,false,false,false,false,false,false,false,true,false]},{\"title\":\"Weekly Performance: NGX - CONGLOMERATES\"}],\"label\":\"NGX - CONGLOMERATES\",\"method\":\"update\"},{\"args\":[{\"visible\":[false,false,false,false,false,false,false,false,false,false,false,false,false,false,false,true]},{\"title\":\"Weekly Performance: NGX - REIT\\u002fREAL ESTATE\"}],\"label\":\"NGX - REIT\\u002fREAL ESTATE\",\"method\":\"update\"}],\"x\":1.15}],\"title\":{\"text\":\"Weekly Performance: NGX - BANKING SERVICES\"},\"xaxis\":{\"title\":{\"text\":\"Week\"}},\"yaxis\":{\"title\":{\"text\":\"Performance (%)\"}}},                        {\"responsive\": true}                    ).then(function(){\n",
       "                            \n",
       "var gd = document.getElementById('5421a1a1-f88d-45f9-aada-2bdd34293f1f');\n",
       "var x = new MutationObserver(function (mutations, observer) {{\n",
       "        var display = window.getComputedStyle(gd).display;\n",
       "        if (!display || display === 'none') {{\n",
       "            console.log([gd, 'removed!']);\n",
       "            Plotly.purge(gd);\n",
       "            observer.disconnect();\n",
       "        }}\n",
       "}});\n",
       "\n",
       "// Listen for the removal of the full notebook cells\n",
       "var notebookContainer = gd.closest('#notebook-container');\n",
       "if (notebookContainer) {{\n",
       "    x.observe(notebookContainer, {childList: true});\n",
       "}}\n",
       "\n",
       "// Listen for the clearing of the current output cell\n",
       "var outputEl = gd.closest('.output');\n",
       "if (outputEl) {{\n",
       "    x.observe(outputEl, {childList: true});\n",
       "}}\n",
       "\n",
       "                        })                };                });            </script>        </div>"
      ]
     },
     "metadata": {},
     "output_type": "display_data"
    }
   ],
   "source": [
    "# -------------------------\n",
    "# Step 6: Create a dropdown menu for each sector\n",
    "# -------------------------\n",
    "fig = go.Figure()\n",
    "\n",
    "# Add traces for each sector but only show the first initially\n",
    "for i, sector in enumerate(df.index):\n",
    "    visible = [False] * len(df.index)\n",
    "    visible[i] = True\n",
    "    fig.add_trace(go.Scatter(x=[\"Week 1\", \"Week 2\", \"Week 3\", \"Week 4\"],\n",
    "                             y=df.loc[sector, \"Week 1\":\"Week 4\"],\n",
    "                             name=sector, visible=(i == 0)))\n",
    "\n",
    "# Create buttons for dropdown menu\n",
    "buttons = [\n",
    "    dict(label=sector,\n",
    "         method=\"update\",\n",
    "         args=[{\"visible\": [i == j for j in range(len(df.index))]},\n",
    "               {\"title\": f\"Weekly Performance: {sector}\"}])\n",
    "    for i, sector in enumerate(df.index)\n",
    "]\n",
    "\n",
    "# Add layout\n",
    "fig.update_layout(\n",
    "    updatemenus=[dict(active=0, buttons=buttons, x=1.15)],\n",
    "    title=\"Weekly Performance: NGX - BANKING SERVICES\",\n",
    "    xaxis_title=\"Week\",\n",
    "    yaxis_title=\"Performance (%)\"\n",
    ")\n",
    "\n",
    "fig.show()\n"
   ]
  },
  {
   "cell_type": "code",
   "execution_count": 101,
   "id": "32811af2-7fed-4498-9592-d069accfb9d8",
   "metadata": {},
   "outputs": [
    {
     "data": {
      "text/html": [
       "<style type=\"text/css\">\n",
       "#T_85385_row0_col0, #T_85385_row1_col0, #T_85385_row2_col0, #T_85385_row3_col0, #T_85385_row4_col0, #T_85385_row5_col0, #T_85385_row6_col0, #T_85385_row7_col0, #T_85385_row8_col0, #T_85385_row9_col0, #T_85385_row10_col0 {\n",
       "  color: green;\n",
       "}\n",
       "#T_85385_row11_col0, #T_85385_row12_col0, #T_85385_row13_col0, #T_85385_row14_col0, #T_85385_row15_col0 {\n",
       "  color: red;\n",
       "}\n",
       "</style>\n",
       "<table id=\"T_85385\">\n",
       "  <thead>\n",
       "    <tr>\n",
       "      <th class=\"blank level0\" >&nbsp;</th>\n",
       "      <th id=\"T_85385_level0_col0\" class=\"col_heading level0 col0\" >Trend</th>\n",
       "      <th id=\"T_85385_level0_col1\" class=\"col_heading level0 col1\" >Trend Slope</th>\n",
       "      <th id=\"T_85385_level0_col2\" class=\"col_heading level0 col2\" >Trend Strength Rank</th>\n",
       "    </tr>\n",
       "    <tr>\n",
       "      <th class=\"index_name level0\" >Sector</th>\n",
       "      <th class=\"blank col0\" >&nbsp;</th>\n",
       "      <th class=\"blank col1\" >&nbsp;</th>\n",
       "      <th class=\"blank col2\" >&nbsp;</th>\n",
       "    </tr>\n",
       "  </thead>\n",
       "  <tbody>\n",
       "    <tr>\n",
       "      <th id=\"T_85385_level0_row0\" class=\"row_heading level0 row0\" >NGX - PHARMACEUTICALS</th>\n",
       "      <td id=\"T_85385_row0_col0\" class=\"data row0 col0\" >Uptrend</td>\n",
       "      <td id=\"T_85385_row0_col1\" class=\"data row0 col1\" >10.0300</td>\n",
       "      <td id=\"T_85385_row0_col2\" class=\"data row0 col2\" >1</td>\n",
       "    </tr>\n",
       "    <tr>\n",
       "      <th id=\"T_85385_level0_row1\" class=\"row_heading level0 row1\" >NGX - TELECOMMUNICATION</th>\n",
       "      <td id=\"T_85385_row1_col0\" class=\"data row1 col0\" >Uptrend</td>\n",
       "      <td id=\"T_85385_row1_col1\" class=\"data row1 col1\" >9.8170</td>\n",
       "      <td id=\"T_85385_row1_col2\" class=\"data row1 col2\" >2</td>\n",
       "    </tr>\n",
       "    <tr>\n",
       "      <th id=\"T_85385_level0_row2\" class=\"row_heading level0 row2\" >NGX - HOSPITALITY</th>\n",
       "      <td id=\"T_85385_row2_col0\" class=\"data row2 col0\" >Uptrend</td>\n",
       "      <td id=\"T_85385_row2_col1\" class=\"data row2 col1\" >5.0800</td>\n",
       "      <td id=\"T_85385_row2_col2\" class=\"data row2 col2\" >3</td>\n",
       "    </tr>\n",
       "    <tr>\n",
       "      <th id=\"T_85385_level0_row3\" class=\"row_heading level0 row3\" >NGX - AGRICULTURAL SERVICES</th>\n",
       "      <td id=\"T_85385_row3_col0\" class=\"data row3 col0\" >Uptrend</td>\n",
       "      <td id=\"T_85385_row3_col1\" class=\"data row3 col1\" >4.6590</td>\n",
       "      <td id=\"T_85385_row3_col2\" class=\"data row3 col2\" >4</td>\n",
       "    </tr>\n",
       "    <tr>\n",
       "      <th id=\"T_85385_level0_row4\" class=\"row_heading level0 row4\" >NGX - BREWERIES</th>\n",
       "      <td id=\"T_85385_row4_col0\" class=\"data row4 col0\" >Uptrend</td>\n",
       "      <td id=\"T_85385_row4_col1\" class=\"data row4 col1\" >4.3270</td>\n",
       "      <td id=\"T_85385_row4_col2\" class=\"data row4 col2\" >5</td>\n",
       "    </tr>\n",
       "    <tr>\n",
       "      <th id=\"T_85385_level0_row5\" class=\"row_heading level0 row5\" >NGX - CONGLOMERATES</th>\n",
       "      <td id=\"T_85385_row5_col0\" class=\"data row5 col0\" >Uptrend</td>\n",
       "      <td id=\"T_85385_row5_col1\" class=\"data row5 col1\" >3.0110</td>\n",
       "      <td id=\"T_85385_row5_col2\" class=\"data row5 col2\" >6</td>\n",
       "    </tr>\n",
       "    <tr>\n",
       "      <th id=\"T_85385_level0_row6\" class=\"row_heading level0 row6\" >NGX - INSURANCE</th>\n",
       "      <td id=\"T_85385_row6_col0\" class=\"data row6 col0\" >Uptrend</td>\n",
       "      <td id=\"T_85385_row6_col1\" class=\"data row6 col1\" >2.6140</td>\n",
       "      <td id=\"T_85385_row6_col2\" class=\"data row6 col2\" >7</td>\n",
       "    </tr>\n",
       "    <tr>\n",
       "      <th id=\"T_85385_level0_row7\" class=\"row_heading level0 row7\" >NGX - INDUSTRIALS</th>\n",
       "      <td id=\"T_85385_row7_col0\" class=\"data row7 col0\" >Uptrend</td>\n",
       "      <td id=\"T_85385_row7_col1\" class=\"data row7 col1\" >2.2300</td>\n",
       "      <td id=\"T_85385_row7_col2\" class=\"data row7 col2\" >8</td>\n",
       "    </tr>\n",
       "    <tr>\n",
       "      <th id=\"T_85385_level0_row8\" class=\"row_heading level0 row8\" >NGX - TRANSPORTATION, AVIATION AND LOGISTICS</th>\n",
       "      <td id=\"T_85385_row8_col0\" class=\"data row8 col0\" >Uptrend</td>\n",
       "      <td id=\"T_85385_row8_col1\" class=\"data row8 col1\" >1.2000</td>\n",
       "      <td id=\"T_85385_row8_col2\" class=\"data row8 col2\" >9</td>\n",
       "    </tr>\n",
       "    <tr>\n",
       "      <th id=\"T_85385_level0_row9\" class=\"row_heading level0 row9\" >NGX - FINANCIAL SERVICES</th>\n",
       "      <td id=\"T_85385_row9_col0\" class=\"data row9 col0\" >Uptrend</td>\n",
       "      <td id=\"T_85385_row9_col1\" class=\"data row9 col1\" >1.1290</td>\n",
       "      <td id=\"T_85385_row9_col2\" class=\"data row9 col2\" >10</td>\n",
       "    </tr>\n",
       "    <tr>\n",
       "      <th id=\"T_85385_level0_row10\" class=\"row_heading level0 row10\" >NGX - CONSTRUCTION</th>\n",
       "      <td id=\"T_85385_row10_col0\" class=\"data row10 col0\" >Uptrend</td>\n",
       "      <td id=\"T_85385_row10_col1\" class=\"data row10 col1\" >0.7330</td>\n",
       "      <td id=\"T_85385_row10_col2\" class=\"data row10 col2\" >11</td>\n",
       "    </tr>\n",
       "    <tr>\n",
       "      <th id=\"T_85385_level0_row11\" class=\"row_heading level0 row11\" >NGX - OIL & GAS SERVICES</th>\n",
       "      <td id=\"T_85385_row11_col0\" class=\"data row11 col0\" >Downtrend</td>\n",
       "      <td id=\"T_85385_row11_col1\" class=\"data row11 col1\" >-0.2180</td>\n",
       "      <td id=\"T_85385_row11_col2\" class=\"data row11 col2\" >12</td>\n",
       "    </tr>\n",
       "    <tr>\n",
       "      <th id=\"T_85385_level0_row12\" class=\"row_heading level0 row12\" >NGX - BANKING SERVICES</th>\n",
       "      <td id=\"T_85385_row12_col0\" class=\"data row12 col0\" >Downtrend</td>\n",
       "      <td id=\"T_85385_row12_col1\" class=\"data row12 col1\" >-0.4610</td>\n",
       "      <td id=\"T_85385_row12_col2\" class=\"data row12 col2\" >13</td>\n",
       "    </tr>\n",
       "    <tr>\n",
       "      <th id=\"T_85385_level0_row13\" class=\"row_heading level0 row13\" >NGX - TECHNOLOGY SERVICES</th>\n",
       "      <td id=\"T_85385_row13_col0\" class=\"data row13 col0\" >Downtrend</td>\n",
       "      <td id=\"T_85385_row13_col1\" class=\"data row13 col1\" >-0.5840</td>\n",
       "      <td id=\"T_85385_row13_col2\" class=\"data row13 col2\" >14</td>\n",
       "    </tr>\n",
       "    <tr>\n",
       "      <th id=\"T_85385_level0_row14\" class=\"row_heading level0 row14\" >NGX - PACKAGED FOODS</th>\n",
       "      <td id=\"T_85385_row14_col0\" class=\"data row14 col0\" >Downtrend</td>\n",
       "      <td id=\"T_85385_row14_col1\" class=\"data row14 col1\" >-0.5910</td>\n",
       "      <td id=\"T_85385_row14_col2\" class=\"data row14 col2\" >15</td>\n",
       "    </tr>\n",
       "    <tr>\n",
       "      <th id=\"T_85385_level0_row15\" class=\"row_heading level0 row15\" >NGX - REIT/REAL ESTATE</th>\n",
       "      <td id=\"T_85385_row15_col0\" class=\"data row15 col0\" >Downtrend</td>\n",
       "      <td id=\"T_85385_row15_col1\" class=\"data row15 col1\" >-1.1100</td>\n",
       "      <td id=\"T_85385_row15_col2\" class=\"data row15 col2\" >16</td>\n",
       "    </tr>\n",
       "  </tbody>\n",
       "</table>\n"
      ],
      "text/plain": [
       "<pandas.io.formats.style.Styler at 0x1dc2e0b1a30>"
      ]
     },
     "execution_count": 101,
     "metadata": {},
     "output_type": "execute_result"
    }
   ],
   "source": [
    "# -------------------------\n",
    "# Step 7: Output Final DataFrame\n",
    "# -------------------------\n",
    "# Display with styled colors\n",
    "def highlight_trend(val):\n",
    "    return 'color: green;' if val == 'Uptrend' else 'color: red;'\n",
    "\n",
    "styled_df = (\n",
    "    df[[\"Trend\", \"Trend Slope\", \"Trend Strength Rank\"]]\n",
    "    .sort_values(\"Trend Strength Rank\")\n",
    "    .style\n",
    "    .map(highlight_trend, subset=[\"Trend\"])\n",
    "    .format({\"Trend Slope\": \"{:.4f}\", \"Trend Strength Rank\": \"{:.0f}\"})\n",
    ")\n",
    "\n",
    "styled_df\n"
   ]
  },
  {
   "cell_type": "code",
   "execution_count": 109,
   "id": "cbeff87a-34f8-4115-a849-a0e0414355ec",
   "metadata": {},
   "outputs": [
    {
     "data": {
      "image/png": "[encoded data removed]",
      "text/plain": [
       "<Figure size 1200x600 with 1 Axes>"
      ]
     },
     "metadata": {},
     "output_type": "display_data"
    }
   ],
   "source": [
    "# -------------------------\n",
    "# Step 8: Clustering sectors based on normalized performance patterns\n",
    "# -------------------------\n",
    "scaler = StandardScaler()\n",
    "scaled_data = scaler.fit_transform(df[[\"Week 1\", \"Week 2\", \"Week 3\", \"Week 4\"]])\n",
    "linkage_matrix = linkage(scaled_data, method='ward')\n",
    "\n",
    "# Dendrogram plot\n",
    "plt.figure(figsize=(12, 6))\n",
    "dendrogram(\n",
    "    linkage_matrix,\n",
    "    labels=df.index.tolist(),\n",
    "    leaf_rotation=90,\n",
    "    color_threshold=0.7 * max(linkage_matrix[:, 2])  # Optional: adds color to clusters\n",
    ")\n",
    "plt.title(\"Hierarchical Clustering of NGX Sectors (Performance Patterns)\")\n",
    "plt.ylabel(\"Distance\")\n",
    "plt.xticks(rotation=45, ha='right')\n",
    "plt.tight_layout()\n",
    "plt.show()\n"
   ]
  },
  {
   "cell_type": "markdown",
   "id": "5a154fc2-9fcf-4d11-b849-364f655d10be",
   "metadata": {},
   "source": [
    "We can note that when we focus on the \"MACD Signal\" column, \n",
    "\n",
    "- \"Buy\" indicates bullish momentum — the sector may be entering an uptrend.\n",
    "- \"Sell\" indicates bearish momentum — potential weakness or reversal.\n",
    "\n",
    "✅ Strong Buy Signals\n",
    "These are sectors with both high MACD and a “Buy” signal suggest strong upward momentum. The sector identified here includes:- \n",
    "- NGX - TELECOMMUNICATION: MACD 4.05 > Signal 3.46 → Strong Buy\n",
    "- NGX - PHARMACEUTICALS: Also strong — may be in sustained growth phase\n",
    "\n",
    "⚠️ Weak or Conflicting Buy Signals\n",
    "These are sectors where the MACD has crossed above the signal line. We can also stated that it is in a bearish zone. The sector identified here includes:- \n",
    "- NGX - TECHNOLOGY SERVICES: MACD is negative (-0.206) but still marked “Buy”\n",
    "- Indicates the MACD has crossed above its signal line, but still in bearish zone\n",
    "- NGX - REIT/REAL ESTATE: Same — very mild signal; proceed with caution.\n",
    "\n",
    "🚫 Sell Signals\n",
    "These are sectors where the MACD < Signal Line → bearish crossover = downward pressure\n",
    "NGX - BANKING SERVICES, PACKAGED FOODS, OIL & GAS SERVICES\n",
    " -------------------------"
   ]
  },
  {
   "cell_type": "code",
   "execution_count": 105,
   "id": "739b34fb-070b-41b5-8022-fb8edfe4f056",
   "metadata": {},
   "outputs": [
    {
     "data": {
      "text/html": [
       "<div>\n",
       "<style scoped>\n",
       "    .dataframe tbody tr th:only-of-type {\n",
       "        vertical-align: middle;\n",
       "    }\n",
       "\n",
       "    .dataframe tbody tr th {\n",
       "        vertical-align: top;\n",
       "    }\n",
       "\n",
       "    .dataframe thead th {\n",
       "        text-align: right;\n",
       "    }\n",
       "</style>\n",
       "<table border=\"1\" class=\"dataframe\">\n",
       "  <thead>\n",
       "    <tr style=\"text-align: right;\">\n",
       "      <th></th>\n",
       "      <th>MACD</th>\n",
       "      <th>Signal Line</th>\n",
       "      <th>MACD Signal</th>\n",
       "    </tr>\n",
       "    <tr>\n",
       "      <th>Sector</th>\n",
       "      <th></th>\n",
       "      <th></th>\n",
       "      <th></th>\n",
       "    </tr>\n",
       "  </thead>\n",
       "  <tbody>\n",
       "    <tr>\n",
       "      <th>NGX - TELECOMMUNICATION</th>\n",
       "      <td>4.055417</td>\n",
       "      <td>3.462685</td>\n",
       "      <td>Buy</td>\n",
       "    </tr>\n",
       "    <tr>\n",
       "      <th>NGX - PHARMACEUTICALS</th>\n",
       "      <td>3.884676</td>\n",
       "      <td>3.455278</td>\n",
       "      <td>Buy</td>\n",
       "    </tr>\n",
       "    <tr>\n",
       "      <th>NGX - HOSPITALITY</th>\n",
       "      <td>2.928333</td>\n",
       "      <td>1.832963</td>\n",
       "      <td>Buy</td>\n",
       "    </tr>\n",
       "    <tr>\n",
       "      <th>NGX - AGRICULTURAL SERVICES</th>\n",
       "      <td>2.491019</td>\n",
       "      <td>1.687963</td>\n",
       "      <td>Buy</td>\n",
       "    </tr>\n",
       "    <tr>\n",
       "      <th>NGX - BREWERIES</th>\n",
       "      <td>1.523657</td>\n",
       "      <td>1.493981</td>\n",
       "      <td>Buy</td>\n",
       "    </tr>\n",
       "    <tr>\n",
       "      <th>NGX - CONGLOMERATES</th>\n",
       "      <td>1.284167</td>\n",
       "      <td>1.052037</td>\n",
       "      <td>Buy</td>\n",
       "    </tr>\n",
       "    <tr>\n",
       "      <th>NGX - INSURANCE</th>\n",
       "      <td>1.248472</td>\n",
       "      <td>0.935463</td>\n",
       "      <td>Buy</td>\n",
       "    </tr>\n",
       "    <tr>\n",
       "      <th>NGX - INDUSTRIALS</th>\n",
       "      <td>0.959398</td>\n",
       "      <td>0.778056</td>\n",
       "      <td>Buy</td>\n",
       "    </tr>\n",
       "    <tr>\n",
       "      <th>NGX - FINANCIAL SERVICES</th>\n",
       "      <td>0.603704</td>\n",
       "      <td>0.406667</td>\n",
       "      <td>Buy</td>\n",
       "    </tr>\n",
       "    <tr>\n",
       "      <th>NGX - TRANSPORTATION, AVIATION AND LOGISTICS</th>\n",
       "      <td>0.579583</td>\n",
       "      <td>0.408056</td>\n",
       "      <td>Buy</td>\n",
       "    </tr>\n",
       "    <tr>\n",
       "      <th>NGX - CONSTRUCTION</th>\n",
       "      <td>0.233380</td>\n",
       "      <td>0.242315</td>\n",
       "      <td>Sell</td>\n",
       "    </tr>\n",
       "    <tr>\n",
       "      <th>NGX - OIL &amp; GAS SERVICES</th>\n",
       "      <td>-0.126019</td>\n",
       "      <td>-0.063889</td>\n",
       "      <td>Sell</td>\n",
       "    </tr>\n",
       "    <tr>\n",
       "      <th>NGX - TECHNOLOGY SERVICES</th>\n",
       "      <td>-0.206296</td>\n",
       "      <td>-0.211111</td>\n",
       "      <td>Buy</td>\n",
       "    </tr>\n",
       "    <tr>\n",
       "      <th>NGX - BANKING SERVICES</th>\n",
       "      <td>-0.313148</td>\n",
       "      <td>-0.170741</td>\n",
       "      <td>Sell</td>\n",
       "    </tr>\n",
       "    <tr>\n",
       "      <th>NGX - PACKAGED FOODS</th>\n",
       "      <td>-0.325093</td>\n",
       "      <td>-0.206481</td>\n",
       "      <td>Sell</td>\n",
       "    </tr>\n",
       "    <tr>\n",
       "      <th>NGX - REIT/REAL ESTATE</th>\n",
       "      <td>-0.352222</td>\n",
       "      <td>-0.380000</td>\n",
       "      <td>Buy</td>\n",
       "    </tr>\n",
       "  </tbody>\n",
       "</table>\n",
       "</div>"
      ],
      "text/plain": [
       "                                                  MACD  Signal Line  \\\n",
       "Sector                                                                \n",
       "NGX - TELECOMMUNICATION                       4.055417     3.462685   \n",
       "NGX - PHARMACEUTICALS                         3.884676     3.455278   \n",
       "NGX - HOSPITALITY                             2.928333     1.832963   \n",
       "NGX - AGRICULTURAL SERVICES                   2.491019     1.687963   \n",
       "NGX - BREWERIES                               1.523657     1.493981   \n",
       "NGX - CONGLOMERATES                           1.284167     1.052037   \n",
       "NGX - INSURANCE                               1.248472     0.935463   \n",
       "NGX - INDUSTRIALS                             0.959398     0.778056   \n",
       "NGX - FINANCIAL SERVICES                      0.603704     0.406667   \n",
       "NGX - TRANSPORTATION, AVIATION AND LOGISTICS  0.579583     0.408056   \n",
       "NGX - CONSTRUCTION                            0.233380     0.242315   \n",
       "NGX - OIL & GAS SERVICES                     -0.126019    -0.063889   \n",
       "NGX - TECHNOLOGY SERVICES                    -0.206296    -0.211111   \n",
       "NGX - BANKING SERVICES                       -0.313148    -0.170741   \n",
       "NGX - PACKAGED FOODS                         -0.325093    -0.206481   \n",
       "NGX - REIT/REAL ESTATE                       -0.352222    -0.380000   \n",
       "\n",
       "                                             MACD Signal  \n",
       "Sector                                                    \n",
       "NGX - TELECOMMUNICATION                              Buy  \n",
       "NGX - PHARMACEUTICALS                                Buy  \n",
       "NGX - HOSPITALITY                                    Buy  \n",
       "NGX - AGRICULTURAL SERVICES                          Buy  \n",
       "NGX - BREWERIES                                      Buy  \n",
       "NGX - CONGLOMERATES                                  Buy  \n",
       "NGX - INSURANCE                                      Buy  \n",
       "NGX - INDUSTRIALS                                    Buy  \n",
       "NGX - FINANCIAL SERVICES                             Buy  \n",
       "NGX - TRANSPORTATION, AVIATION AND LOGISTICS         Buy  \n",
       "NGX - CONSTRUCTION                                  Sell  \n",
       "NGX - OIL & GAS SERVICES                            Sell  \n",
       "NGX - TECHNOLOGY SERVICES                            Buy  \n",
       "NGX - BANKING SERVICES                              Sell  \n",
       "NGX - PACKAGED FOODS                                Sell  \n",
       "NGX - REIT/REAL ESTATE                               Buy  "
      ]
     },
     "execution_count": 105,
     "metadata": {},
     "output_type": "execute_result"
    }
   ],
   "source": [
    "# -------------------------\n",
    "# Step 9: Calculate MACD (Moving Average Convergence Divergence) and signal line for each sector\n",
    "# -------------------------\n",
    "def compute_macd(values, fast=2, slow=3, signal=2):\n",
    "    fast_ema = pd.Series(values).ewm(span=fast, adjust=False).mean()\n",
    "    slow_ema = pd.Series(values).ewm(span=slow, adjust=False).mean()\n",
    "    macd = fast_ema - slow_ema\n",
    "    signal_line = macd.ewm(span=signal, adjust=False).mean()\n",
    "    return macd.iloc[-1], signal_line.iloc[-1]\n",
    "\n",
    "# Apply MACD computation to each sector\n",
    "macd_results = []\n",
    "for sector in df.index:\n",
    "    values = df.loc[sector].values[:4]  # Week 1 to Week 4\n",
    "    macd, signal_line = compute_macd(values)\n",
    "    macd_results.append((macd, signal_line))\n",
    "\n",
    "# Append to DataFrame\n",
    "df_macd = df.copy()\n",
    "df_macd[\"MACD\"] = [m[0] for m in macd_results]\n",
    "df_macd[\"Signal Line\"] = [m[1] for m in macd_results]\n",
    "df_macd[\"MACD Signal\"] = np.where(df_macd[\"MACD\"] > df_macd[\"Signal Line\"], \"Buy\", \"Sell\")\n",
    "\n",
    "# Show MACD signal summary\n",
    "df_macd[[\"MACD\", \"Signal Line\", \"MACD Signal\"]].sort_values(\"MACD\", ascending=False)\n"
   ]
  },
  {
   "cell_type": "markdown",
   "id": "1b4b5f18-6805-45c1-baec-98bac28fa9fb",
   "metadata": {},
   "source": [
    "CONCLUSION\n",
    "-------------------------\n",
    "The MACD analysis reveals a broadly bullish sentiment across most NGX sectors, with strong momentum concentrated in:\n",
    "\n",
    "- NGX - Telecommunication\n",
    "- NGX - Pharmaceuticals\n",
    "- NGX - Hospitality\n",
    "- NGX - Agricultural Services\n",
    "\n",
    "These sectors exhibit the highest positive MACD crossovers, suggesting sustained upward momentum and investor interest — positioning them as potential leaders in short-term performance.\n",
    "\n",
    "Meanwhile, a few sectors like NGX - Banking Services, Packaged Foods, and Oil & Gas Services are showing clear bearish signals, indicating a potential loss of momentum or short-term weakness. These may warrant caution or reevaluation in a portfolio context.\n",
    "\n",
    "Sectors such as Technology Services and REIT/Real Estate are in transitional phases, with weak but improving signals — they may offer early entry points, though with higher uncertainty."
   ]
  },
  {
   "cell_type": "code",
   "execution_count": null,
   "id": "b44e9011-5326-43cd-ad78-8b4824834d64",
   "metadata": {},
   "outputs": [],
   "source": []
  }
 ],
 "metadata": {
  "kernelspec": {
   "display_name": "Python [conda env:base] *",
   "language": "python",
   "name": "conda-base-py"
  },
  "language_info": {
   "codemirror_mode": {
    "name": "ipython",
    "version": 3
   },
   "file_extension": ".py",
   "mimetype": "text/x-python",
   "name": "python",
   "nbconvert_exporter": "python",
   "pygments_lexer": "ipython3",
   "version": "3.12.7"
  }
 },
 "nbformat": 4,
 "nbformat_minor": 5
}
