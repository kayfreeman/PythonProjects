{
 "cells": [
  {
   "cell_type": "markdown",
   "id": "93f79e59-5ebd-4594-b49b-dee6b8b34e72",
   "metadata": {},
   "source": [
    "## SERVER FIREWALL PAYLOAD - PYTHON - TELESTRA ASSIGNMENT"
   ]
  },
  {
   "cell_type": "code",
   "execution_count": 25,
   "id": "f5536c6b-e800-4c30-8455-c16becdd1fb2",
   "metadata": {},
   "outputs": [
    {
     "name": "stdout",
     "output_type": "stream",
     "text": [
      "[+] Firewall Server\n",
      "[+] HTTP Web Server running on: localhost:8000\n"
     ]
    },
    {
     "name": "stderr",
     "output_type": "stream",
     "text": [
      "127.0.0.1 - - [22/Mar/2025 00:49:59] \"POST /tomcatwar.jsp HTTP/1.1\" 200 -\n",
      "127.0.0.1 - - [22/Mar/2025 00:50:01] \"POST /tomcatwar.jsp HTTP/1.1\" 200 -\n",
      "127.0.0.1 - - [22/Mar/2025 00:50:03] \"POST /tomcatwar.jsp HTTP/1.1\" 200 -\n",
      "127.0.0.1 - - [22/Mar/2025 00:50:05] \"POST /tomcatwar.jsp HTTP/1.1\" 200 -\n",
      "127.0.0.1 - - [22/Mar/2025 00:50:07] \"POST /tomcatwar.jsp HTTP/1.1\" 200 -\n"
     ]
    },
    {
     "name": "stdout",
     "output_type": "stream",
     "text": [
      "[+] Server terminated. Exiting...\n"
     ]
    }
   ],
   "source": [
    "\n",
    "\n",
    "# www.theforage.com - Telstra Cyber Task 3\n",
    "# Firewall Server Handler\n",
    "\n",
    "\n",
    "from http.server import BaseHTTPRequestHandler, HTTPServer\n",
    "\n",
    "\n",
    "host = \"localhost\"\n",
    "port = 8000\n",
    "\n",
    "\n",
    "#########\n",
    "# Handle the response here \n",
    "def block_request(self):\n",
    "    print(\"Blocking request\")\n",
    "\n",
    "\n",
    "def handle_request(self):\n",
    "    self.send_response(200)\n",
    "    self.send_header(\"content-type\", \"application/json\")\n",
    "    self.end_headers()\n",
    "\n",
    "\n",
    "#########\n",
    "\n",
    "\n",
    "class ServerHandler(BaseHTTPRequestHandler):\n",
    "    def do_GET(self):\n",
    "        handle_request(self)\n",
    "\n",
    "\n",
    "    def do_POST(self):\n",
    "        handle_request(self)\n",
    "\n",
    "\n",
    "if __name__ == \"__main__\":        \n",
    "    server = HTTPServer((host, port), ServerHandler)\n",
    "    print(\"[+] Firewall Server\")\n",
    "    print(\"[+] HTTP Web Server running on: %s:%s\" % (host, port))\n",
    "\n",
    "\n",
    "    try:\n",
    "        server.serve_forever()\n",
    "    except KeyboardInterrupt:\n",
    "        pass\n",
    "\n",
    "\n",
    "    server.server_close()\n",
    "    print(\"[+] Server terminated. Exiting...\")\n",
    "    exit(0)"
   ]
  },
  {
   "cell_type": "markdown",
   "id": "65b24c00-5b37-4248-babb-481237724879",
   "metadata": {},
   "source": [
    "## UPDATED SERVER FIREWALL PAYLOAD - PYTHON - TELESTRA ASSIGNMENT"
   ]
  },
  {
   "cell_type": "code",
   "execution_count": null,
   "id": "5c825d29-85e1-4aab-84c0-e6cec9b2ef31",
   "metadata": {},
   "outputs": [
    {
     "name": "stdout",
     "output_type": "stream",
     "text": [
      "[+] Firewall Server running on: localhost:8000\n"
     ]
    },
    {
     "name": "stderr",
     "output_type": "stream",
     "text": [
      "127.0.0.1 - - [22/Mar/2025 01:21:16] \"POST /tomcatwar.jsp HTTP/1.1\" 403 -\n"
     ]
    },
    {
     "name": "stdout",
     "output_type": "stream",
     "text": [
      "Blocked a malicious request\n"
     ]
    },
    {
     "name": "stderr",
     "output_type": "stream",
     "text": [
      "127.0.0.1 - - [22/Mar/2025 01:21:18] \"POST /tomcatwar.jsp HTTP/1.1\" 403 -\n"
     ]
    },
    {
     "name": "stdout",
     "output_type": "stream",
     "text": [
      "Blocked a malicious request\n"
     ]
    },
    {
     "name": "stderr",
     "output_type": "stream",
     "text": [
      "127.0.0.1 - - [22/Mar/2025 01:21:20] \"POST /tomcatwar.jsp HTTP/1.1\" 403 -\n"
     ]
    },
    {
     "name": "stdout",
     "output_type": "stream",
     "text": [
      "Blocked a malicious request\n"
     ]
    },
    {
     "name": "stderr",
     "output_type": "stream",
     "text": [
      "127.0.0.1 - - [22/Mar/2025 01:21:22] \"POST /tomcatwar.jsp HTTP/1.1\" 403 -\n"
     ]
    },
    {
     "name": "stdout",
     "output_type": "stream",
     "text": [
      "Blocked a malicious request\n"
     ]
    },
    {
     "name": "stderr",
     "output_type": "stream",
     "text": [
      "127.0.0.1 - - [22/Mar/2025 01:21:24] \"POST /tomcatwar.jsp HTTP/1.1\" 403 -\n"
     ]
    },
    {
     "name": "stdout",
     "output_type": "stream",
     "text": [
      "Blocked a malicious request\n"
     ]
    }
   ],
   "source": [
    "from http.server import BaseHTTPRequestHandler, HTTPServer\n",
    "import re\n",
    "\n",
    "# Host and port for the server\n",
    "host = \"localhost\"\n",
    "port = 8000\n",
    "\n",
    "# Firewall rule to detect and block potentially malicious payloads\n",
    "def block_request(self):\n",
    "    self.send_response(403)  # Forbidden status\n",
    "    self.send_header(\"content-type\", \"application/json\")\n",
    "    self.end_headers()\n",
    "    self.wfile.write(b'{\"message\": \"Request blocked by firewall\"}\\n')\n",
    "    print(\"Blocked a malicious request\")\n",
    "\n",
    "# Function to handle legitimate requests\n",
    "def handle_request(self):\n",
    "    self.send_response(200)\n",
    "    self.send_header(\"content-type\", \"application/json\")\n",
    "    self.end_headers()\n",
    "    self.wfile.write(b'{\"message\": \"Request allowed\"}\\n')\n",
    "    print(\"Request allowed\")\n",
    "\n",
    "# Function to check if the request payload contains malicious patterns\n",
    "def is_malicious(payload):\n",
    "    # List of suspicious keywords indicating a potential attack (e.g., RCE, command injection)\n",
    "    malicious_patterns = [\n",
    "        r\"exec\\(\",  # Check for 'exec' function calls (often used for command execution)\n",
    "        r\"getRuntime\\(\",  # Potential remote code execution (RCE) method\n",
    "        r\"InputStream\",  # Look for usage of InputStream in the payload\n",
    "        r\"Runtime.getRuntime()\",  # Common pattern in remote code execution attempts\n",
    "        r\"out.println\",  # Output function that might be used for RCE exploitation\n",
    "    ]\n",
    "    \n",
    "    # Check if any malicious pattern is found in the payload\n",
    "    for pattern in malicious_patterns:\n",
    "        if re.search(pattern, payload, re.IGNORECASE):\n",
    "            return True  # Malicious pattern detected\n",
    "    return False  # No malicious pattern found\n",
    "\n",
    "class ServerHandler(BaseHTTPRequestHandler):\n",
    "    def do_GET(self):\n",
    "        # Handle GET requests (simply allow them for now)\n",
    "        handle_request(self)\n",
    "\n",
    "    def do_POST(self):\n",
    "        # Read the request payload\n",
    "        content_length = int(self.headers.get('Content-Length'))\n",
    "        post_data = self.rfile.read(content_length).decode('utf-8')\n",
    "\n",
    "        # Check if the POST data contains malicious patterns\n",
    "        if is_malicious(post_data):\n",
    "            block_request(self)  # Block malicious request\n",
    "        else:\n",
    "            handle_request(self)  # Allow legitimate request\n",
    "\n",
    "if __name__ == \"__main__\":        \n",
    "    # Start the HTTP server with the firewall handler\n",
    "    server = HTTPServer((host, port), ServerHandler)\n",
    "    print(\"[+] Firewall Server running on: %s:%s\" % (host, port))\n",
    "\n",
    "    try:\n",
    "        server.serve_forever()\n",
    "    except KeyboardInterrupt:\n",
    "        pass\n",
    "\n",
    "    server.server_close()\n",
    "    print(\"[+] Server terminated. Exiting...\")\n",
    "    exit(0)\n"
   ]
  },
  {
   "cell_type": "code",
   "execution_count": null,
   "id": "1e5629eb-8abe-4b83-a660-9d19d165a283",
   "metadata": {},
   "outputs": [],
   "source": []
  }
 ],
 "metadata": {
  "kernelspec": {
   "display_name": "Python [conda env:base] *",
   "language": "python",
   "name": "conda-base-py"
  },
  "language_info": {
   "codemirror_mode": {
    "name": "ipython",
    "version": 3
   },
   "file_extension": ".py",
   "mimetype": "text/x-python",
   "name": "python",
   "nbconvert_exporter": "python",
   "pygments_lexer": "ipython3",
   "version": "3.12.7"
  }
 },
 "nbformat": 4,
 "nbformat_minor": 5
}
